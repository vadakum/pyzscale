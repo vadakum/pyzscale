{
 "cells": [
  {
   "cell_type": "code",
   "execution_count": null,
   "id": "b906645f-61ce-4599-966e-6e4f7f6ac698",
   "metadata": {
    "editable": true,
    "slideshow": {
     "slide_type": ""
    },
    "tags": []
   },
   "outputs": [],
   "source": [
    "%load_ext autoreload\n",
    "%autoreload 2"
   ]
  },
  {
   "cell_type": "code",
   "execution_count": null,
   "id": "849bf929-4089-40bb-bf56-30aeccb0e34f",
   "metadata": {},
   "outputs": [],
   "source": [
    "# Echarts Jupyter lab support\n",
    "from pyecharts.globals import CurrentConfig, NotebookType\n",
    "CurrentConfig.NOTEBOOK_TYPE = NotebookType.JUPYTER_LAB"
   ]
  },
  {
   "cell_type": "code",
   "execution_count": null,
   "id": "1ef59f84-ba54-4386-acaf-82c7791fe11f",
   "metadata": {
    "jupyter": {
     "source_hidden": true
    }
   },
   "outputs": [],
   "source": [
    "# Echarts imports\n",
    "from pyecharts import options as opts\n",
    "from pyecharts.globals import  ThemeType\n",
    "from pyecharts.charts import Line"
   ]
  },
  {
   "cell_type": "code",
   "execution_count": null,
   "id": "20299fc6-c384-4e77-b729-8329ef5da290",
   "metadata": {
    "jupyter": {
     "source_hidden": true
    }
   },
   "outputs": [],
   "source": [
    "from IPython.display import HTML\n",
    "import matplotlib.pyplot as plt"
   ]
  },
  {
   "cell_type": "code",
   "execution_count": null,
   "id": "6fef9fa5-9439-4117-a439-73e9ca04ffdf",
   "metadata": {
    "jupyter": {
     "source_hidden": true
    }
   },
   "outputs": [],
   "source": [
    "from common.log_helper import LogHelper\n",
    "from backtest.scale_backtest_args import ScaleBacktestArgGen\n",
    "from backtest.scale_backtest import ScaleBacktest\n",
    "from modelservice.alpha_consts import SignalDirection\n",
    "from notebooks.echart_bt_plots import *\n",
    "from notebooks.echart_df_plot import *\n",
    "from copy import deepcopy\n",
    "import concurrent.futures\n",
    "import time\n",
    "import os\n",
    "import requests\n",
    "import json\n",
    "import logging\n",
    "import sys\n",
    "import pandas as pd"
   ]
  },
  {
   "cell_type": "code",
   "execution_count": null,
   "id": "c423cb8c-d2f3-449e-9931-dc496aaa1ac4",
   "metadata": {},
   "outputs": [],
   "source": [
    "#LogHelper.configure_logging(verbose=False)\n",
    "pd.set_option(\"display.precision\", 2)\n",
    "pd.set_option('display.float_format', '{:.2f}'.format)"
   ]
  },
  {
   "cell_type": "code",
   "execution_count": null,
   "id": "d9d10d30-3ea5-4439-a099-a053915477ab",
   "metadata": {},
   "outputs": [],
   "source": [
    "BtArgs : dict = {\n",
    "    'common': {\n",
    "        'start_time': '09:15:01',\n",
    "        'end_time' :  '15:24:30',\n",
    "    },\n",
    "    'alpha': {\n",
    "        'sigmult' : None,\n",
    "        'smoother' : None,\n",
    "    },\n",
    "    'execution': {\n",
    "        'exec_instr_type' : 'NK_F',        \n",
    "        'price_type' : 'CROSS',\n",
    "        'opt_trd_offset' : 2,\n",
    "        'quote_lots' : 1,\n",
    "        'stop_loss': 0,\n",
    "        'max_loss' : 0,\n",
    "        'profit_target' : 0\n",
    "    }\n",
    "}"
   ]
  },
  {
   "cell_type": "code",
   "execution_count": null,
   "id": "5d06c273-507e-48d8-9e99-db0aeb73b51a",
   "metadata": {},
   "outputs": [],
   "source": [
    "dump_base_dir = \"/home/qoptrprod/data/dumps/\"\n",
    "#underlyings = [\"NIFTY_I\",\"BANKNIFTY_I\",\"FINNIFTY_I\",\"MIDCPNIFTY_I\"]\n",
    "underlyings = [\"BANKNIFTY_I\"]\n",
    "trading_dates = [20240319, 20240320, 20240321, 20240322, 20240326, 20240327,\n",
    "                 20240328, 20240401, 20240402, 20240403, 20240404, 20240405,\n",
    "                 20240408, 20240409, 20240410, 20240412, 20240415, 20240416,\n",
    "                 20240418, 20240419\n",
    "                ]\n",
    "#trading_dates = [20240416,20240418, 20240419]\n",
    "trading_dates = [str(t) for t in trading_dates]\n",
    "stop_loss = -10000\n",
    "sig_mults = [0.5]\n",
    "smoothers = [\n",
    "        {\n",
    "            'TS' : {'enabled': False, 'type' : 'STABLEWIN' , 'timeperiod' : 0 },\n",
    "            'UL' : {'enabled': True, 'type' : 'EMA' , 'timeperiod' : 10 * 60 },\n",
    "            'CP' : {'enabled': True, 'type' : 'SMA' , 'timeperiod' : 10 * 60 },            \n",
    "            'MACD' : {'enabled': False, 'dfast' : 5*60, 'dslow' : 13*60, 'dsig' : 8*60, 'timeperiod' : 'macd2'},\n",
    "        }\n",
    "    ] "
   ]
  },
  {
   "cell_type": "code",
   "execution_count": null,
   "id": "a5b4a321-ba48-4979-9140-50886efcb1af",
   "metadata": {
    "jupyter": {
     "source_hidden": true
    }
   },
   "outputs": [],
   "source": [
    "def bt_wrap(arg_obj):\n",
    "    bt = ScaleBacktest(arg_obj)\n",
    "    scale_result = bt.run_bt(show_trades=False)\n",
    "    return scale_result"
   ]
  },
  {
   "cell_type": "code",
   "execution_count": null,
   "id": "0dd33185-2640-4835-b054-54ec5393967b",
   "metadata": {
    "jupyter": {
     "source_hidden": true
    }
   },
   "outputs": [],
   "source": [
    "results = []\n",
    "with concurrent.futures.ProcessPoolExecutor(max_workers=4) as executor:\n",
    "    fmaplist = []\n",
    "    for underlying in underlyings:\n",
    "        for trading_date in trading_dates:\n",
    "            for smoother in smoothers:\n",
    "                for sigmult in sig_mults:            \n",
    "                    bt_args = deepcopy(BtArgs)\n",
    "                    bt_args['alpha']['sigmult'] = sigmult\n",
    "                    bt_args['alpha']['smoother'] = smoother\n",
    "                    enab_flag = ''.join([str(smoother[k]['enabled'])[0] for k in smoother.keys()])\n",
    "                    ts_valstr = '_'.join([str(smoother[k]['timeperiod']) for k in smoother.keys()])\n",
    "                    key = f\"mult={sigmult}~dur={enab_flag}_{ts_valstr}\"\n",
    "                    arg_obj = ScaleBacktestArgGen.resolve_and_gen_args(dump_base_dir,underlying,trading_date=trading_date,bt_args=bt_args)\n",
    "                    fmaplist.append(\n",
    "                        {\n",
    "                            'a.date' : trading_date,\n",
    "                            'b.underlying' : underlying,\n",
    "                            'c.key' : key,\n",
    "                            'process' : executor.submit(bt_wrap, arg_obj)\n",
    "                        })\n",
    "    \n",
    "    for fmap in fmaplist:\n",
    "        sdr = {}\n",
    "        for k,v in fmap.items():\n",
    "            if k == 'process':\n",
    "                result = v.result()\n",
    "                for sk, sv in result['summary'].items():\n",
    "                    sdr[sk] = sv\n",
    "            else:\n",
    "                sdr[k] = v\n",
    "        results.append(sdr)\n",
    "# process results               \n"
   ]
  },
  {
   "cell_type": "code",
   "execution_count": null,
   "id": "46b12342-f991-4215-9905-e5f4b29fea6f",
   "metadata": {
    "jupyter": {
     "source_hidden": true
    }
   },
   "outputs": [],
   "source": [
    "sdf = pd.DataFrame(results, columns=sorted(results[0].keys()))\n",
    "sdf = sdf.drop(columns=['to'])\n",
    "sdf = sdf.rename(columns={'avg_entry_px' : 'apx', 'max_hold_sec' : 'hold', 'num_trades' : 'nt', 'quote_lots' : 'ql'})\n",
    "sdf['orig_net_pnl'] = sdf['net_pnl']\n",
    "sdf.loc[sdf['net_pnl'] < stop_loss, 'net_pnl'] = stop_loss\n",
    "sdf['SLFail'] = sdf['orig_net_pnl'] > sdf['net_pnl']\n",
    "sdf['day'] = pd.to_datetime(sdf['a.date'], format='%Y%m%d').dt.day_name()"
   ]
  },
  {
   "cell_type": "code",
   "execution_count": null,
   "id": "5370839b-a381-453d-b584-fe16884b2f16",
   "metadata": {},
   "outputs": [],
   "source": [
    "#display(sdf)"
   ]
  },
  {
   "cell_type": "markdown",
   "id": "d7cfdab0-01a6-4588-be6c-5f4318175c3e",
   "metadata": {},
   "source": [
    "### Summary"
   ]
  },
  {
   "cell_type": "code",
   "execution_count": null,
   "id": "b5cf2edb-f82e-4d54-bcd3-d9ccbd516cd0",
   "metadata": {
    "jupyter": {
     "source_hidden": true
    }
   },
   "outputs": [],
   "source": [
    "import numpy as np\n",
    "def days(l):\n",
    "    return len(l)\n",
    "def neg(l):\n",
    "    return (l < 0).sum()\n",
    "def stop_loss_fails(l):\n",
    "    return (l == True).sum()\n",
    "\n",
    "\n",
    "display(\n",
    "sdf.groupby(['b.underlying']).agg({\n",
    "    'net_pnl' : ['sum', days, neg, stop_loss_fails, 'median', 'mean'],\n",
    "    'tcost':'sum', \n",
    "    'max_loss' : 'min', \n",
    "    'max_profit' : 'max',\n",
    "    'nt' : 'sum',\n",
    "    'lot_size' : 'max',\n",
    "    'apx' : 'max',\n",
    "}))    \n",
    "\n",
    "pnls = sdf.net_pnl.values\n",
    "print(f\"   Total PNL: {round(sum(pnls))} in {len(trading_dates)} days\")\n",
    "print(f\"Avgerage PNL: {round(sum(pnls)/len(trading_dates))} per day\")"
   ]
  },
  {
   "cell_type": "code",
   "execution_count": null,
   "id": "f80373d6-2eeb-403f-97aa-6229e606a5e9",
   "metadata": {},
   "outputs": [],
   "source": [
    "sdf.to_csv(\"output.csv\", index=False)"
   ]
  }
 ],
 "metadata": {
  "kernelspec": {
   "display_name": "Python 3 (ipykernel)",
   "language": "python",
   "name": "python3"
  },
  "language_info": {
   "codemirror_mode": {
    "name": "ipython",
    "version": 3
   },
   "file_extension": ".py",
   "mimetype": "text/x-python",
   "name": "python",
   "nbconvert_exporter": "python",
   "pygments_lexer": "ipython3",
   "version": "3.11.5"
  }
 },
 "nbformat": 4,
 "nbformat_minor": 5
}
