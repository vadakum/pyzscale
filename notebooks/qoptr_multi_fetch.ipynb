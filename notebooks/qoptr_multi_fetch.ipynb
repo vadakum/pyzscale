{
 "cells": [
  {
   "cell_type": "code",
   "execution_count": null,
   "id": "b906645f-61ce-4599-966e-6e4f7f6ac698",
   "metadata": {
    "editable": true,
    "slideshow": {
     "slide_type": ""
    },
    "tags": []
   },
   "outputs": [],
   "source": [
    "%load_ext autoreload\n",
    "%autoreload 2"
   ]
  },
  {
   "cell_type": "code",
   "execution_count": null,
   "id": "6fef9fa5-9439-4117-a439-73e9ca04ffdf",
   "metadata": {},
   "outputs": [],
   "source": [
    "import requests\n",
    "import json\n",
    "import sys\n",
    "import pandas as pd"
   ]
  },
  {
   "cell_type": "code",
   "execution_count": null,
   "id": "c423cb8c-d2f3-449e-9931-dc496aaa1ac4",
   "metadata": {},
   "outputs": [],
   "source": [
    "pd.set_option(\"display.precision\", 2)\n",
    "pd.set_option('display.float_format', '{:.2f}'.format)"
   ]
  },
  {
   "cell_type": "code",
   "execution_count": null,
   "id": "5d06c273-507e-48d8-9e99-db0aeb73b51a",
   "metadata": {},
   "outputs": [],
   "source": [
    "dump_base_dir = \"/home/qoptrprod/data/dumps/\"\n",
    "underlyings = [\"NIFTY_I\",\"BANKNIFTY_I\",\"FINNIFTY_I\",\"MIDCPNIFTY_I\"]\n",
    "trading_dates = [\"20240319\", \"20240320\", \"20240321\", \"20240322\", \"20240326\"]"
   ]
  },
  {
   "cell_type": "code",
   "execution_count": null,
   "id": "0dd33185-2640-4835-b054-54ec5393967b",
   "metadata": {
    "jupyter": {
     "source_hidden": true
    }
   },
   "outputs": [],
   "source": [
    "qoptr_results = []\n",
    "scale_results = []\n",
    "for underlying in underlyings:\n",
    "    for trading_date in trading_dates:\n",
    "        ul = underlying.split('_')[0]\n",
    "        url = f'http://someurl.com/api/chain_app/runcmpbt/?ul={ul}&sdate={trading_date}&edate={trading_date}'\n",
    "        response = requests.get(url=url)  \n",
    "        qoptr_dict_list = json.loads(response.text)\n",
    "        qoptr_day_result = qoptr_dict_list[0]['day_results'][0]\n",
    "        qoptr_signals = qoptr_day_result['signals']    \n",
    "        qdr = {}\n",
    "        for k,v in qoptr_day_result['summary'].items():\n",
    "            qdr[k] = v\n",
    "        qdr['a.date'] = qoptr_day_result['date']\n",
    "        qdr['b.underlying'] = qoptr_day_result['underlying']        \n",
    "        qdr['expiry'] = qoptr_day_result['expiry']\n",
    "        qoptr_results.append(qdr)"
   ]
  },
  {
   "cell_type": "code",
   "execution_count": null,
   "id": "46b12342-f991-4215-9905-e5f4b29fea6f",
   "metadata": {},
   "outputs": [],
   "source": [
    "qdf = pd.DataFrame(qoptr_results, columns=sorted(qoptr_results[0].keys()))"
   ]
  },
  {
   "cell_type": "code",
   "execution_count": null,
   "id": "b5cf2edb-f82e-4d54-bcd3-d9ccbd516cd0",
   "metadata": {},
   "outputs": [],
   "source": [
    "print(f\"QOPTR Results: Total PNL: {round(qdf.net_pnl.sum())}\")\n",
    "display(qdf)"
   ]
  },
  {
   "cell_type": "code",
   "execution_count": null,
   "id": "3de576cb-8f37-4262-9243-f3a8eb7f0c53",
   "metadata": {},
   "outputs": [],
   "source": []
  }
 ],
 "metadata": {
  "kernelspec": {
   "display_name": "Python 3 (ipykernel)",
   "language": "python",
   "name": "python3"
  },
  "language_info": {
   "codemirror_mode": {
    "name": "ipython",
    "version": 3
   },
   "file_extension": ".py",
   "mimetype": "text/x-python",
   "name": "python",
   "nbconvert_exporter": "python",
   "pygments_lexer": "ipython3",
   "version": "3.11.5"
  }
 },
 "nbformat": 4,
 "nbformat_minor": 5
}
