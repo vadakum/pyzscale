{
 "cells": [
  {
   "cell_type": "code",
   "execution_count": null,
   "id": "b906645f-61ce-4599-966e-6e4f7f6ac698",
   "metadata": {
    "editable": true,
    "slideshow": {
     "slide_type": ""
    },
    "tags": []
   },
   "outputs": [],
   "source": [
    "%load_ext autoreload\n",
    "%autoreload 2"
   ]
  },
  {
   "cell_type": "code",
   "execution_count": null,
   "id": "849bf929-4089-40bb-bf56-30aeccb0e34f",
   "metadata": {},
   "outputs": [],
   "source": [
    "# Echarts Jupyter lab support\n",
    "from pyecharts.globals import CurrentConfig, NotebookType\n",
    "CurrentConfig.NOTEBOOK_TYPE = NotebookType.JUPYTER_LAB"
   ]
  },
  {
   "cell_type": "code",
   "execution_count": null,
   "id": "1ef59f84-ba54-4386-acaf-82c7791fe11f",
   "metadata": {},
   "outputs": [],
   "source": [
    "# Echarts imports\n",
    "from pyecharts import options as opts\n",
    "from pyecharts.globals import  ThemeType\n",
    "from pyecharts.charts import Line"
   ]
  },
  {
   "cell_type": "code",
   "execution_count": null,
   "id": "20299fc6-c384-4e77-b729-8329ef5da290",
   "metadata": {},
   "outputs": [],
   "source": [
    "from IPython.display import HTML\n",
    "import matplotlib.pyplot as plt"
   ]
  },
  {
   "cell_type": "code",
   "execution_count": null,
   "id": "6fef9fa5-9439-4117-a439-73e9ca04ffdf",
   "metadata": {},
   "outputs": [],
   "source": [
    "from common.log_helper import LogHelper\n",
    "from backtest.scale_backtest_args import ScaleBacktestArgGen\n",
    "from backtest.scale_backtest import ScaleBacktest\n",
    "from modelservice.alpha_consts import SignalDirection\n",
    "from notebooks.echart_bt_plots import *\n",
    "from notebooks.echart_df_plot import *\n",
    "\n",
    "import requests\n",
    "import json\n",
    "import logging\n",
    "import sys\n",
    "import pandas as pd"
   ]
  },
  {
   "cell_type": "code",
   "execution_count": null,
   "id": "c423cb8c-d2f3-449e-9931-dc496aaa1ac4",
   "metadata": {},
   "outputs": [],
   "source": [
    "#LogHelper.configure_logging(verbose=False)\n",
    "pd.set_option(\"display.precision\", 2)\n",
    "pd.set_option('display.float_format', '{:.2f}'.format)"
   ]
  },
  {
   "cell_type": "code",
   "execution_count": null,
   "id": "4a4eaff1-f425-4e95-9efe-5846a55aa10f",
   "metadata": {
    "jupyter": {
     "source_hidden": true
    }
   },
   "outputs": [],
   "source": [
    "def colorize(val):\n",
    "    if val == 'B':\n",
    "        color = 'green'\n",
    "    elif val == 'S':\n",
    "        color = 'red'\n",
    "    else:\n",
    "        color = 'black'\n",
    "    return 'color: %s' % color"
   ]
  },
  {
   "cell_type": "code",
   "execution_count": null,
   "id": "d9d10d30-3ea5-4439-a099-a053915477ab",
   "metadata": {},
   "outputs": [],
   "source": [
    "BtArgs = {\n",
    "    'common': {\n",
    "        'start_time': '09:15:01',\n",
    "        'end_time' : '15:29:00',\n",
    "    },\n",
    "    'alpha': {\n",
    "        'sigmult' : 0.5,\n",
    "        'smoother' : {\n",
    "            'enabled' : False,\n",
    "            #'ul' : {'type' : 'WHIT' , 'lmbda' : 0.3, 'qlen' : 10 },            \n",
    "            'ul' : {'type' : 'EMA' , 'timeperiod' : 0 },\n",
    "            'cp' : {'type' : 'EMA' , 'timeperiod' : 0 },            \n",
    "            'atm' : {'type' : 'STABLEWIN' , 'timeperiod' : 2 * 60 },\n",
    "            'ts' : {'type' : 'STABLEWIN' , 'timeperiod' : 2 * 60 },            \n",
    "        }\n",
    "    },\n",
    "    'execution': {\n",
    "        'exec_instr_type' : 'NK_F',        \n",
    "        'price_type' : 'LTP',\n",
    "        'stop_loss': 0,\n",
    "        'max_loss' : 0,\n",
    "    }\n",
    "}"
   ]
  },
  {
   "cell_type": "code",
   "execution_count": null,
   "id": "5d06c273-507e-48d8-9e99-db0aeb73b51a",
   "metadata": {},
   "outputs": [],
   "source": [
    "dump_base_dir = \"/home/qoptrprod/data/dumps/\"\n",
    "underlyings = [\"NIFTY_I\",\"BANKNIFTY_I\",\"FINNIFTY_I\",\"MIDCPNIFTY_I\"]\n",
    "trading_dates = [\"20240319\", \"20240320\", \"20240321\", \"20240322\"]"
   ]
  },
  {
   "cell_type": "code",
   "execution_count": null,
   "id": "0dd33185-2640-4835-b054-54ec5393967b",
   "metadata": {},
   "outputs": [],
   "source": [
    "qoptr_results = []\n",
    "scale_results = []\n",
    "for underlying in underlyings:\n",
    "    for trading_date in trading_dates:\n",
    "        ul = underlying.split('_')[0]\n",
    "        url = f'http://someurl.com/api/chain_app/runcmpbt/?ul={ul}&sdate={trading_date}&edate={trading_date}'\n",
    "        response = requests.get(url=url)  \n",
    "        qoptr_dict_list = json.loads(response.text)\n",
    "        qoptr_day_result = qoptr_dict_list[0]['day_results'][0]\n",
    "        qoptr_signals = qoptr_day_result['signals']    \n",
    "        qdr = {}\n",
    "        for k,v in qoptr_day_result['summary'].items():\n",
    "            qdr[k] = v\n",
    "        qdr['a.date'] = qoptr_day_result['date']\n",
    "        qdr['b.underlying'] = qoptr_day_result['underlying']        \n",
    "        qdr['expiry'] = qoptr_day_result['expiry']\n",
    "        qoptr_results.append(qdr)\n",
    "\n",
    "        sdr = {}\n",
    "        arg_obj = ScaleBacktestArgGen.resolve_and_gen_args(dump_base_dir,underlying,trading_date=trading_date,bt_args=BtArgs)\n",
    "        bt = ScaleBacktest(arg_obj)\n",
    "        scale_result = bt.run_bt_with_qoptr_signal(qoptr_signals, shift=1)\n",
    "        for k,v in scale_result['summary'].items():\n",
    "            sdr[k] = v\n",
    "        sdr['a.date'] = trading_date            \n",
    "        sdr['b.underlying'] = underlying\n",
    "        scale_results.append(sdr)"
   ]
  },
  {
   "cell_type": "code",
   "execution_count": null,
   "id": "46b12342-f991-4215-9905-e5f4b29fea6f",
   "metadata": {},
   "outputs": [],
   "source": [
    "qdf = pd.DataFrame(qoptr_results, columns=sorted(qoptr_results[0].keys()))\n",
    "sdf = pd.DataFrame(scale_results, columns=sorted(scale_results[0].keys()))"
   ]
  },
  {
   "cell_type": "code",
   "execution_count": null,
   "id": "b5cf2edb-f82e-4d54-bcd3-d9ccbd516cd0",
   "metadata": {},
   "outputs": [],
   "source": [
    "print(f\"QOPTR Results: Total PNL: {round(qdf.net_pnl.sum())}\")\n",
    "display(qdf)\n",
    "print(f\"SCALE Results: Total PNL: {round(sdf.net_pnl.sum())}\")\n",
    "display(sdf)"
   ]
  },
  {
   "cell_type": "code",
   "execution_count": null,
   "id": "9b1210db-1cee-4fcc-95db-c2ceab7ec856",
   "metadata": {},
   "outputs": [],
   "source": []
  }
 ],
 "metadata": {
  "kernelspec": {
   "display_name": "Python 3 (ipykernel)",
   "language": "python",
   "name": "python3"
  },
  "language_info": {
   "codemirror_mode": {
    "name": "ipython",
    "version": 3
   },
   "file_extension": ".py",
   "mimetype": "text/x-python",
   "name": "python",
   "nbconvert_exporter": "python",
   "pygments_lexer": "ipython3",
   "version": "3.11.5"
  }
 },
 "nbformat": 4,
 "nbformat_minor": 5
}
