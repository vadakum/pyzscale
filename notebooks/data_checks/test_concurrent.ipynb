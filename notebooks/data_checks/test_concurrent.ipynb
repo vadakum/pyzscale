{
 "cells": [
  {
   "cell_type": "code",
   "execution_count": null,
   "id": "184827b0-30f1-4215-b8b5-d934bd47491d",
   "metadata": {},
   "outputs": [],
   "source": [
    "import concurrent.futures\n",
    "import time\n",
    "import os"
   ]
  },
  {
   "cell_type": "code",
   "execution_count": null,
   "id": "262ebd49-a91e-4295-b143-8aaadb9e1f39",
   "metadata": {},
   "outputs": [],
   "source": [
    "def work(arg):\n",
    "    time.sleep(arg)\n",
    "    print(f\"process id: {os.getpid()} with {arg} compelete!\")\n",
    "    return {'result' : arg * 10 }\n",
    "    "
   ]
  },
  {
   "cell_type": "code",
   "execution_count": null,
   "id": "18ec238c-d524-4789-b79c-91aa014ec017",
   "metadata": {},
   "outputs": [],
   "source": [
    "args = [5, 6, 7, 15]\n",
    "results = []\n",
    "with concurrent.futures.ProcessPoolExecutor(max_workers=4) as executor:\n",
    "    results = [result for result in executor.map(work, args)]    "
   ]
  },
  {
   "cell_type": "code",
   "execution_count": null,
   "id": "b99355e4-3b4d-44c5-bfad-b1109414e8b0",
   "metadata": {},
   "outputs": [],
   "source": [
    "results = []\n",
    "with concurrent.futures.ProcessPoolExecutor(max_workers=4) as executor:\n",
    "    futures = []\n",
    "    for arg in args:\n",
    "        futures.append(executor.submit(work, arg))\n",
    "    print(\"Waiting for result collection!\")    \n",
    "    results = [future.result() for future in futures]\n",
    "print(results)"
   ]
  },
  {
   "cell_type": "code",
   "execution_count": null,
   "id": "38a2d4ab-fa7b-4597-894e-4c6fa1e298dc",
   "metadata": {},
   "outputs": [],
   "source": []
  },
  {
   "cell_type": "code",
   "execution_count": null,
   "id": "32e88034-16f7-449f-a011-ebc27bc73a79",
   "metadata": {},
   "outputs": [],
   "source": []
  }
 ],
 "metadata": {
  "kernelspec": {
   "display_name": "Python 3 (ipykernel)",
   "language": "python",
   "name": "python3"
  },
  "language_info": {
   "codemirror_mode": {
    "name": "ipython",
    "version": 3
   },
   "file_extension": ".py",
   "mimetype": "text/x-python",
   "name": "python",
   "nbconvert_exporter": "python",
   "pygments_lexer": "ipython3",
   "version": "3.11.5"
  }
 },
 "nbformat": 4,
 "nbformat_minor": 5
}
