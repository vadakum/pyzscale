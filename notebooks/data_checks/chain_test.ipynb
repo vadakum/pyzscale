{
 "cells": [
  {
   "cell_type": "code",
   "execution_count": 90,
   "id": "85878ee9-97ad-4f2b-b3c2-b77e08bcad30",
   "metadata": {},
   "outputs": [
    {
     "name": "stdout",
     "output_type": "stream",
     "text": [
      "The autoreload extension is already loaded. To reload it, use:\n",
      "  %reload_ext autoreload\n"
     ]
    }
   ],
   "source": [
    "%load_ext autoreload\n",
    "%autoreload 2"
   ]
  },
  {
   "cell_type": "code",
   "execution_count": 83,
   "id": "e8568dc0-7211-40ac-a8c1-c117a2c806ab",
   "metadata": {},
   "outputs": [],
   "source": [
    "# Echarts Jupyter lab support\n",
    "from pyecharts.globals import CurrentConfig, NotebookType\n",
    "CurrentConfig.NOTEBOOK_TYPE = NotebookType.JUPYTER_LAB"
   ]
  },
  {
   "cell_type": "code",
   "execution_count": 84,
   "id": "35e6e7ee-abcb-4e92-b983-705b2e49dc45",
   "metadata": {},
   "outputs": [],
   "source": [
    "# Echarts imports\n",
    "from pyecharts import options as opts\n",
    "from pyecharts.globals import  ThemeType\n",
    "from pyecharts.charts import Line"
   ]
  },
  {
   "cell_type": "code",
   "execution_count": 85,
   "id": "4575951d-5c4b-4818-966c-fac5b1ad6124",
   "metadata": {},
   "outputs": [],
   "source": [
    "from IPython.display import HTML\n",
    "import matplotlib.pyplot as plt"
   ]
  },
  {
   "cell_type": "code",
   "execution_count": 86,
   "id": "ebd1ef9f-dbd0-42f9-b9f3-08524d500c61",
   "metadata": {},
   "outputs": [],
   "source": [
    "from common.log_helper import LogHelper\n",
    "from backtest.scale_backtest_args import ScaleBacktestArgGen\n",
    "from backtest.scale_chain_reader import ScaleChainReader\n",
    "from notebooks.img_symbols import down_arrow\n",
    "from notebooks.echart_df_plot import plot_df_simple\n",
    "from md.instrument_manager import InstrumentType\n",
    "from md.instrument_manager import InstrumentManager, InstrumentType, InstField\n",
    "from modelservice.supp_res import OptSuppRes, Summary\n",
    "\n",
    "from datetime import datetime\n",
    "import logging\n",
    "import sys\n",
    "import pandas as pd\n"
   ]
  },
  {
   "cell_type": "code",
   "execution_count": 6,
   "id": "8213b0d2-6313-45c2-8bbc-880f7cb0ec37",
   "metadata": {},
   "outputs": [],
   "source": [
    "LogHelper.configure_logging(verbose=False)\n",
    "pd.set_option(\"display.precision\", 2)\n",
    "pd.set_option('display.float_format', '{:.2f}'.format)"
   ]
  },
  {
   "cell_type": "code",
   "execution_count": 8,
   "id": "962e5818-a0a3-4f7e-a1b8-14458fea3c62",
   "metadata": {},
   "outputs": [],
   "source": [
    "ReaderArgs = {\n",
    "    'common': {\n",
    "        'start_time': '09:30:00',\n",
    "        'end_time' : '09:30:00',\n",
    "    },\n",
    "}"
   ]
  },
  {
   "cell_type": "code",
   "execution_count": 9,
   "id": "6211499d-0e30-44d3-9911-da4a7a052457",
   "metadata": {},
   "outputs": [],
   "source": [
    "dump_base_dir = \"/home/qoptrprod/data/dumps\"\n",
    "trading_date = \"20240320\"\n",
    "underlying = \"NIFTY_I\""
   ]
  },
  {
   "cell_type": "code",
   "execution_count": 10,
   "id": "f4d8df14-3336-4e3c-828a-3cd844531307",
   "metadata": {},
   "outputs": [],
   "source": [
    "arg_obj = ScaleBacktestArgGen.resolve_and_gen_args(dump_base_dir, underlying, trading_date, ReaderArgs)\n",
    "reader = ScaleChainReader(arg_obj)"
   ]
  },
  {
   "cell_type": "code",
   "execution_count": 11,
   "id": "f8052d44-6532-442f-a3b4-55cb10a8c3d9",
   "metadata": {},
   "outputs": [
    {
     "name": "stdout",
     "output_type": "stream",
     "text": [
      "<class 'str'>\n"
     ]
    }
   ],
   "source": [
    "analysis_recs = []\n",
    "for chain in reader.read_chain():\n",
    "    print(type(chain.get_ul_exch_ts()))\n",
    "    analysis_recs.append({\n",
    "        'ts' : chain.get_ul_exch_ts(),\n",
    "        'ulsy': chain.get_ul_symbol(),\n",
    "        'futsy' : chain.get_trd_symbol(), \n",
    "        'optsy' : chain.get_opt_symbol(),\n",
    "        'trdinstid' : chain.trd_instid,\n",
    "        'lot_size' : chain.get_trd_lot_size(), \n",
    "        'ulpx' : chain.get_ul_price(),\n",
    "        'futpx' : chain.get_trd_ltp(),\n",
    "        'kgap' : chain.get_opt_strike_gap(),\n",
    "        'mdatm' : chain.get_md_atm(),\n",
    "        'mda_cltp' : chain.get_opt_ltp(strike=chain.get_md_atm(), instr_type=InstrumentType.CE),\n",
    "        'mda_pltp' : chain.get_opt_ltp(strike=chain.get_md_atm(), instr_type=InstrumentType.PE),\n",
    "    })\n",
    "    break"
   ]
  },
  {
   "cell_type": "code",
   "execution_count": 12,
   "id": "19cc15ed-b441-4591-936f-3cba866b0cb9",
   "metadata": {},
   "outputs": [
    {
     "name": "stdout",
     "output_type": "stream",
     "text": [
      "{'ts': '2024-03-20 09:30:00', 'ulsy': 'NIFTY', 'futsy': 'NIFTY24MARFUT', 'optsy': 'NIFTY', 'trdinstid': 9372674, 'lot_size': 50, 'ulpx': 21855.3, 'futpx': 21934.95, 'kgap': 50.0, 'mdatm': 21850.0, 'mda_cltp': 110.6, 'mda_pltp': 85.05}\n"
     ]
    }
   ],
   "source": [
    "print(analysis_recs[0])"
   ]
  },
  {
   "cell_type": "code",
   "execution_count": 13,
   "id": "bf7aea8c-198e-4e5e-9e2a-1e8e89a00db3",
   "metadata": {},
   "outputs": [],
   "source": [
    "df = pd.DataFrame(analysis_recs)\n",
    "_ = df.set_index('ts')"
   ]
  },
  {
   "cell_type": "code",
   "execution_count": 14,
   "id": "f7bb9eed-bd24-4b86-b341-4143abcae37c",
   "metadata": {},
   "outputs": [
    {
     "data": {
      "text/html": [
       "<div>\n",
       "<style scoped>\n",
       "    .dataframe tbody tr th:only-of-type {\n",
       "        vertical-align: middle;\n",
       "    }\n",
       "\n",
       "    .dataframe tbody tr th {\n",
       "        vertical-align: top;\n",
       "    }\n",
       "\n",
       "    .dataframe thead th {\n",
       "        text-align: right;\n",
       "    }\n",
       "</style>\n",
       "<table border=\"1\" class=\"dataframe\">\n",
       "  <thead>\n",
       "    <tr style=\"text-align: right;\">\n",
       "      <th></th>\n",
       "      <th>ts</th>\n",
       "      <th>ulsy</th>\n",
       "      <th>futsy</th>\n",
       "      <th>optsy</th>\n",
       "      <th>trdinstid</th>\n",
       "      <th>lot_size</th>\n",
       "      <th>ulpx</th>\n",
       "      <th>futpx</th>\n",
       "      <th>kgap</th>\n",
       "      <th>mdatm</th>\n",
       "      <th>mda_cltp</th>\n",
       "      <th>mda_pltp</th>\n",
       "    </tr>\n",
       "  </thead>\n",
       "  <tbody>\n",
       "    <tr>\n",
       "      <th>0</th>\n",
       "      <td>2024-03-20 09:30:00</td>\n",
       "      <td>NIFTY</td>\n",
       "      <td>NIFTY24MARFUT</td>\n",
       "      <td>NIFTY</td>\n",
       "      <td>9372674</td>\n",
       "      <td>50</td>\n",
       "      <td>21855.30</td>\n",
       "      <td>21934.95</td>\n",
       "      <td>50.00</td>\n",
       "      <td>21850.00</td>\n",
       "      <td>110.60</td>\n",
       "      <td>85.05</td>\n",
       "    </tr>\n",
       "  </tbody>\n",
       "</table>\n",
       "</div>"
      ],
      "text/plain": [
       "                    ts   ulsy          futsy  optsy  trdinstid  lot_size  \\\n",
       "0  2024-03-20 09:30:00  NIFTY  NIFTY24MARFUT  NIFTY    9372674        50   \n",
       "\n",
       "      ulpx    futpx  kgap    mdatm  mda_cltp  mda_pltp  \n",
       "0 21855.30 21934.95 50.00 21850.00    110.60     85.05  "
      ]
     },
     "execution_count": 14,
     "metadata": {},
     "output_type": "execute_result"
    }
   ],
   "source": [
    "df.head(5)"
   ]
  },
  {
   "cell_type": "code",
   "execution_count": 47,
   "id": "f9d464cf-be4f-4519-b130-8d6592bc0249",
   "metadata": {},
   "outputs": [],
   "source": [
    "cdf = chain.get_opt_dataframe()    "
   ]
  },
  {
   "cell_type": "code",
   "execution_count": 49,
   "id": "6ceced33-f97d-443b-adb8-c9aae8b7d50c",
   "metadata": {},
   "outputs": [
    {
     "data": {
      "text/html": [
       "<div>\n",
       "<style scoped>\n",
       "    .dataframe tbody tr th:only-of-type {\n",
       "        vertical-align: middle;\n",
       "    }\n",
       "\n",
       "    .dataframe tbody tr th {\n",
       "        vertical-align: top;\n",
       "    }\n",
       "\n",
       "    .dataframe thead th {\n",
       "        text-align: right;\n",
       "    }\n",
       "</style>\n",
       "<table border=\"1\" class=\"dataframe\">\n",
       "  <thead>\n",
       "    <tr style=\"text-align: right;\">\n",
       "      <th></th>\n",
       "      <th>strike</th>\n",
       "      <th>c_px</th>\n",
       "      <th>p_px</th>\n",
       "      <th>c_vol</th>\n",
       "      <th>p_vol</th>\n",
       "      <th>c_oi</th>\n",
       "      <th>p_oi</th>\n",
       "    </tr>\n",
       "  </thead>\n",
       "  <tbody>\n",
       "    <tr>\n",
       "      <th>0</th>\n",
       "      <td>21100.00</td>\n",
       "      <td>769.95</td>\n",
       "      <td>0.90</td>\n",
       "      <td>500</td>\n",
       "      <td>2088300</td>\n",
       "      <td>2200</td>\n",
       "      <td>2230300</td>\n",
       "    </tr>\n",
       "    <tr>\n",
       "      <th>1</th>\n",
       "      <td>21150.00</td>\n",
       "      <td>675.30</td>\n",
       "      <td>1.00</td>\n",
       "      <td>0</td>\n",
       "      <td>667300</td>\n",
       "      <td>450</td>\n",
       "      <td>972200</td>\n",
       "    </tr>\n",
       "  </tbody>\n",
       "</table>\n",
       "</div>"
      ],
      "text/plain": [
       "    strike   c_px  p_px  c_vol    p_vol  c_oi     p_oi\n",
       "0 21100.00 769.95  0.90    500  2088300  2200  2230300\n",
       "1 21150.00 675.30  1.00      0   667300   450   972200"
      ]
     },
     "execution_count": 49,
     "metadata": {},
     "output_type": "execute_result"
    }
   ],
   "source": [
    "cdf.head(2)"
   ]
  },
  {
   "cell_type": "code",
   "execution_count": 87,
   "id": "b55658fb-5d7f-46fe-9762-0b3f77e3d08a",
   "metadata": {},
   "outputs": [],
   "source": [
    "sr = OptSuppRes(chain)"
   ]
  },
  {
   "cell_type": "code",
   "execution_count": 102,
   "id": "82a7df15-6b51-475b-b4fc-8a1c479124b5",
   "metadata": {},
   "outputs": [],
   "source": [
    "cs, ps = sr.process()"
   ]
  },
  {
   "cell_type": "code",
   "execution_count": 103,
   "id": "c5cf325e-c38e-4950-9c58-3b35ecd03496",
   "metadata": {},
   "outputs": [
    {
     "data": {
      "text/plain": [
       "(Summary(leader='VOL', state='STG', strike=21900.0, h2k=0.0),\n",
       " Summary(leader='VOL', state='XDW', strike=21900.0, h2k=21800.0))"
      ]
     },
     "execution_count": 103,
     "metadata": {},
     "output_type": "execute_result"
    }
   ],
   "source": [
    "cs, ps"
   ]
  },
  {
   "cell_type": "code",
   "execution_count": null,
   "id": "e7a5ac69-e38a-496a-9d39-742aad45beb2",
   "metadata": {},
   "outputs": [],
   "source": []
  }
 ],
 "metadata": {
  "kernelspec": {
   "display_name": "Python 3 (ipykernel)",
   "language": "python",
   "name": "python3"
  },
  "language_info": {
   "codemirror_mode": {
    "name": "ipython",
    "version": 3
   },
   "file_extension": ".py",
   "mimetype": "text/x-python",
   "name": "python",
   "nbconvert_exporter": "python",
   "pygments_lexer": "ipython3",
   "version": "3.11.5"
  }
 },
 "nbformat": 4,
 "nbformat_minor": 5
}
