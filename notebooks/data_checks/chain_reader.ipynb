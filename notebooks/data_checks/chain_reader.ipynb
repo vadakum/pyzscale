{
 "cells": [
  {
   "cell_type": "code",
   "execution_count": 1,
   "id": "85878ee9-97ad-4f2b-b3c2-b77e08bcad30",
   "metadata": {},
   "outputs": [],
   "source": [
    "%load_ext autoreload\n",
    "%autoreload 2"
   ]
  },
  {
   "cell_type": "code",
   "execution_count": 2,
   "id": "e8568dc0-7211-40ac-a8c1-c117a2c806ab",
   "metadata": {},
   "outputs": [],
   "source": [
    "# Echarts Jupyter lab support\n",
    "from pyecharts.globals import CurrentConfig, NotebookType\n",
    "CurrentConfig.NOTEBOOK_TYPE = NotebookType.JUPYTER_LAB"
   ]
  },
  {
   "cell_type": "code",
   "execution_count": null,
   "id": "35e6e7ee-abcb-4e92-b983-705b2e49dc45",
   "metadata": {},
   "outputs": [],
   "source": [
    "# Echarts imports\n",
    "from pyecharts import options as opts\n",
    "from pyecharts.globals import  ThemeType\n",
    "from pyecharts.charts import Line"
   ]
  },
  {
   "cell_type": "code",
   "execution_count": null,
   "id": "4575951d-5c4b-4818-966c-fac5b1ad6124",
   "metadata": {},
   "outputs": [],
   "source": [
    "from IPython.display import HTML\n",
    "import matplotlib.pyplot as plt"
   ]
  },
  {
   "cell_type": "code",
   "execution_count": null,
   "id": "ebd1ef9f-dbd0-42f9-b9f3-08524d500c61",
   "metadata": {},
   "outputs": [],
   "source": [
    "from common.log_helper import LogHelper\n",
    "from backtest.scale_backtest_args import ScaleBacktestArgGen\n",
    "from backtest.scale_chain_reader import ScaleChainReader\n",
    "from notebooks.img_symbols import down_arrow\n",
    "from notebooks.echart_df_plot import plot_df_simple\n",
    "from modelservice.smoothers import EMA, Whittaker\n",
    "import logging\n",
    "import sys\n",
    "import pandas as pd\n",
    "import talib"
   ]
  },
  {
   "cell_type": "code",
   "execution_count": null,
   "id": "8213b0d2-6313-45c2-8bbc-880f7cb0ec37",
   "metadata": {},
   "outputs": [],
   "source": [
    "LogHelper.configure_logging(verbose=False)\n",
    "pd.set_option(\"display.precision\", 2)\n",
    "pd.set_option('display.float_format', '{:.2f}'.format)"
   ]
  },
  {
   "cell_type": "code",
   "execution_count": null,
   "id": "962e5818-a0a3-4f7e-a1b8-14458fea3c62",
   "metadata": {},
   "outputs": [],
   "source": [
    "ReaderArgs = {\n",
    "    'common': {\n",
    "        'start_time': '09:15:30',\n",
    "        'end_time' : '09:30:15',\n",
    "    },\n",
    "}"
   ]
  },
  {
   "cell_type": "code",
   "execution_count": null,
   "id": "6211499d-0e30-44d3-9911-da4a7a052457",
   "metadata": {},
   "outputs": [],
   "source": [
    "dump_base_dir = \"/home/qoptrprod/data/dumps\"\n",
    "trading_date = \"20240320\"\n",
    "underlying = \"MICDPNIFTY_I\""
   ]
  },
  {
   "cell_type": "code",
   "execution_count": null,
   "id": "f4d8df14-3336-4e3c-828a-3cd844531307",
   "metadata": {},
   "outputs": [],
   "source": [
    "arg_obj = ScaleBacktestArgGen.resolve_and_gen_args(dump_base_dir, underlying, trading_date, ReaderArgs)\n",
    "reader = ScaleChainReader(arg_obj)"
   ]
  },
  {
   "cell_type": "code",
   "execution_count": null,
   "id": "f8052d44-6532-442f-a3b4-55cb10a8c3d9",
   "metadata": {},
   "outputs": [],
   "source": [
    "analysis_recs = []\n",
    "ema = EMA(args={'timeperiod' : 60 })\n",
    "whit = Whittaker(args={'lmbda' : 10, 'qlen' : 60 })\n",
    "\n",
    "for chain in reader.read_chain():\n",
    "    ts = chain.get_ul_exch_ts()\n",
    "    ulpx = chain.get_ul_price()\n",
    "    futpx = chain.get_trd_ltp()\n",
    "    \n",
    "    ema.add_sample(ulpx)\n",
    "    inema = ema.get_value()\n",
    "\n",
    "    whit.add_sample(ulpx)\n",
    "    inwhit = whit.get_value()\n",
    "    \n",
    "    analysis_recs.append({\n",
    "        'ts' : ts,\n",
    "        'ulpx' : ulpx,\n",
    "        'futpx' : futpx,\n",
    "        'inema' : inema,\n",
    "        'inwhit' : inwhit,\n",
    "    })\n",
    "df = pd.DataFrame(analysis_recs)\n",
    "_ = df.set_index('ts')"
   ]
  },
  {
   "cell_type": "code",
   "execution_count": null,
   "id": "19cc15ed-b441-4591-936f-3cba866b0cb9",
   "metadata": {},
   "outputs": [],
   "source": [
    "print(analysis_recs[0])"
   ]
  },
  {
   "cell_type": "code",
   "execution_count": null,
   "id": "bf7aea8c-198e-4e5e-9e2a-1e8e89a00db3",
   "metadata": {},
   "outputs": [],
   "source": [
    "df['sma'] = talib.SMA(df.ulpx, timeperiod=60)\n",
    "df['ema'] = talib.EMA(df.ulpx, timeperiod=60)"
   ]
  },
  {
   "cell_type": "code",
   "execution_count": null,
   "id": "4327a24a-8fb3-4786-a99c-3b9bb0bb6b7b",
   "metadata": {},
   "outputs": [],
   "source": [
    "df_plot = plot_df_simple(df, 'ts', \n",
    "                         ['ulpx' , 'futpx', 'sma', 'ema', 'inema', 'inwhit'], \n",
    "                         title= 'Analysis')"
   ]
  },
  {
   "cell_type": "code",
   "execution_count": null,
   "id": "8759c965-ad72-44bf-8502-4bd250664f26",
   "metadata": {},
   "outputs": [],
   "source": [
    "df_plot.render_notebook()"
   ]
  },
  {
   "cell_type": "code",
   "execution_count": null,
   "id": "152536a5-2914-470f-93d6-0fb7e4efd23e",
   "metadata": {},
   "outputs": [],
   "source": []
  }
 ],
 "metadata": {
  "kernelspec": {
   "display_name": "Python 3 (ipykernel)",
   "language": "python",
   "name": "python3"
  },
  "language_info": {
   "codemirror_mode": {
    "name": "ipython",
    "version": 3
   },
   "file_extension": ".py",
   "mimetype": "text/x-python",
   "name": "python",
   "nbconvert_exporter": "python",
   "pygments_lexer": "ipython3",
   "version": "3.11.5"
  }
 },
 "nbformat": 4,
 "nbformat_minor": 5
}
