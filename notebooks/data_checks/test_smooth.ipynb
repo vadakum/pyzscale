{
 "cells": [
  {
   "cell_type": "code",
   "execution_count": null,
   "id": "ae2080e3-c0d8-4804-a87a-3fca5cd133b0",
   "metadata": {},
   "outputs": [],
   "source": [
    "%load_ext autoreload\n",
    "%autoreload 2"
   ]
  },
  {
   "cell_type": "code",
   "execution_count": null,
   "id": "ec1a388a-ae7f-43c7-8698-c004eef7afeb",
   "metadata": {},
   "outputs": [],
   "source": [
    "from modelservice.smoothers import SmootherFactory"
   ]
  },
  {
   "cell_type": "code",
   "execution_count": null,
   "id": "ae5ce8c6-e088-438a-955e-9105a931a1ce",
   "metadata": {},
   "outputs": [],
   "source": [
    "s1 = SmootherFactory.create(args={'type' :'stablewin', 'timeperiod' : 2})\n",
    "s2 = SmootherFactory.create(args={'type' :'ema', 'timeperiod' : 0})\n",
    "s3 = SmootherFactory.create(args={'type' :'whit', 'lmbda' : 0.3, 'qlen' : 2})"
   ]
  },
  {
   "cell_type": "code",
   "execution_count": null,
   "id": "438e4511-1abe-4311-9f0c-35e911db0a1d",
   "metadata": {},
   "outputs": [],
   "source": [
    "samples = [1, 2]\n",
    "for sm in [s1, s2, s3]:\n",
    "    [sm.add_sample(s) for s in samples]"
   ]
  },
  {
   "cell_type": "code",
   "execution_count": null,
   "id": "9d30fc50-001c-40a4-a21d-e41d20f5980c",
   "metadata": {},
   "outputs": [],
   "source": [
    "for sm in [s1, s2, s3]:\n",
    "    print(sm.is_ready())\n",
    "    "
   ]
  },
  {
   "cell_type": "code",
   "execution_count": null,
   "id": "6be663b3-32a7-407c-b676-938f10213663",
   "metadata": {},
   "outputs": [],
   "source": [
    "for sm in [s1, s2, s3]:\n",
    "    print(sm.get_value())"
   ]
  }
 ],
 "metadata": {
  "kernelspec": {
   "display_name": "Python 3 (ipykernel)",
   "language": "python",
   "name": "python3"
  },
  "language_info": {
   "codemirror_mode": {
    "name": "ipython",
    "version": 3
   },
   "file_extension": ".py",
   "mimetype": "text/x-python",
   "name": "python",
   "nbconvert_exporter": "python",
   "pygments_lexer": "ipython3",
   "version": "3.11.5"
  }
 },
 "nbformat": 4,
 "nbformat_minor": 5
}
