{
 "cells": [
  {
   "cell_type": "code",
   "execution_count": null,
   "id": "77f09e41-9eb7-4ffd-a139-f841147e8057",
   "metadata": {},
   "outputs": [],
   "source": [
    "from datetime import datetime"
   ]
  },
  {
   "cell_type": "code",
   "execution_count": null,
   "id": "9706abfb-03cf-45fb-a9a7-3d2dffe45902",
   "metadata": {},
   "outputs": [],
   "source": [
    "d1 = datetime.fromisoformat(\"2024-03-20T09:21:37\")\n",
    "d2 = datetime.fromisoformat(\"2024-03-20 09:21:38\")\n",
    "(d2 - d1).total_seconds()"
   ]
  },
  {
   "cell_type": "code",
   "execution_count": null,
   "id": "949f3c48-556d-476f-bea9-b60275fd4509",
   "metadata": {},
   "outputs": [],
   "source": []
  }
 ],
 "metadata": {
  "kernelspec": {
   "display_name": "Python 3 (ipykernel)",
   "language": "python",
   "name": "python3"
  },
  "language_info": {
   "codemirror_mode": {
    "name": "ipython",
    "version": 3
   },
   "file_extension": ".py",
   "mimetype": "text/x-python",
   "name": "python",
   "nbconvert_exporter": "python",
   "pygments_lexer": "ipython3",
   "version": "3.11.5"
  }
 },
 "nbformat": 4,
 "nbformat_minor": 5
}
