{
 "cells": [
  {
   "cell_type": "code",
   "execution_count": null,
   "id": "51e528f2-e173-47bc-af49-e8893e4136c8",
   "metadata": {},
   "outputs": [],
   "source": [
    "class ExponentialMovingAverage:\n",
    "    def __init__(self, alpha) -> None:\n",
    "        self.alpha = alpha\n",
    "        self.average = None\n",
    "\n",
    "    def add_sample(self, sample: float):\n",
    "        if self.average == None:\n",
    "            self.average = sample\n",
    "        self.average = sample * self.alpha + (1 - self.alpha) * self.average\n",
    "\n",
    "    def get_avg(self):\n",
    "        return self.average"
   ]
  },
  {
   "cell_type": "code",
   "execution_count": null,
   "id": "9d566a0c-8a04-41dc-8427-e3b3153eeb5d",
   "metadata": {},
   "outputs": [],
   "source": [
    "ma = ExponentialMovingAverage(alpha=0.325)\n",
    "for value in range(1, 10):\n",
    "    # Add Streaming sample\n",
    "    ma.add_sample(value)\n",
    "    # Show the internal window state and the running average\n",
    "    print(f\"Adding streaming sample {value}, Exponential Moving average => {round(ma.get_avg(), 2)}\")\n",
    "    "
   ]
  },
  {
   "cell_type": "code",
   "execution_count": null,
   "id": "ef7256ff-b7a3-4780-9c64-4a87083e78ed",
   "metadata": {},
   "outputs": [],
   "source": []
  }
 ],
 "metadata": {
  "kernelspec": {
   "display_name": "Python 3 (ipykernel)",
   "language": "python",
   "name": "python3"
  },
  "language_info": {
   "codemirror_mode": {
    "name": "ipython",
    "version": 3
   },
   "file_extension": ".py",
   "mimetype": "text/x-python",
   "name": "python",
   "nbconvert_exporter": "python",
   "pygments_lexer": "ipython3",
   "version": "3.11.5"
  }
 },
 "nbformat": 4,
 "nbformat_minor": 5
}
