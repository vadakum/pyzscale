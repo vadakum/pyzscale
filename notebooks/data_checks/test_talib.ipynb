{
 "cells": [
  {
   "cell_type": "code",
   "execution_count": null,
   "id": "06543a3f-0fa1-4743-b616-a5fc52fdda51",
   "metadata": {},
   "outputs": [],
   "source": [
    "import talib\n",
    "import numpy as np"
   ]
  },
  {
   "cell_type": "code",
   "execution_count": null,
   "id": "d1c2024e-e0f8-4a2e-9a10-a3987def3667",
   "metadata": {},
   "outputs": [],
   "source": [
    "c = np.array([1.0,5,3,4,5,7])\n",
    "vals = talib.EMA(c, timeperiod=5)\n",
    "print(vals)\n",
    "print(f\"{c[-1]}  {list(vals)[-1]}\")\n"
   ]
  },
  {
   "cell_type": "code",
   "execution_count": null,
   "id": "ea2ce095-1400-4ff4-a1eb-0083f78bbe1c",
   "metadata": {},
   "outputs": [],
   "source": [
    "talib.SMA(c, timeperiod=5)"
   ]
  },
  {
   "cell_type": "code",
   "execution_count": null,
   "id": "4a6931fd-e3fc-46d9-a35e-9a071f063c7e",
   "metadata": {},
   "outputs": [],
   "source": []
  }
 ],
 "metadata": {
  "kernelspec": {
   "display_name": "Python 3 (ipykernel)",
   "language": "python",
   "name": "python3"
  },
  "language_info": {
   "codemirror_mode": {
    "name": "ipython",
    "version": 3
   },
   "file_extension": ".py",
   "mimetype": "text/x-python",
   "name": "python",
   "nbconvert_exporter": "python",
   "pygments_lexer": "ipython3",
   "version": "3.11.5"
  }
 },
 "nbformat": 4,
 "nbformat_minor": 5
}
