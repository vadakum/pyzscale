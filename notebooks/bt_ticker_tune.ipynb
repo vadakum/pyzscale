{
 "cells": [
  {
   "cell_type": "code",
   "execution_count": 284,
   "id": "b906645f-61ce-4599-966e-6e4f7f6ac698",
   "metadata": {
    "editable": true,
    "slideshow": {
     "slide_type": ""
    },
    "tags": []
   },
   "outputs": [
    {
     "name": "stdout",
     "output_type": "stream",
     "text": [
      "The autoreload extension is already loaded. To reload it, use:\n",
      "  %reload_ext autoreload\n"
     ]
    }
   ],
   "source": [
    "%load_ext autoreload\n",
    "%autoreload 2"
   ]
  },
  {
   "cell_type": "code",
   "execution_count": 285,
   "id": "849bf929-4089-40bb-bf56-30aeccb0e34f",
   "metadata": {},
   "outputs": [],
   "source": [
    "# Echarts Jupyter lab support\n",
    "from pyecharts.globals import CurrentConfig, NotebookType\n",
    "CurrentConfig.NOTEBOOK_TYPE = NotebookType.JUPYTER_LAB"
   ]
  },
  {
   "cell_type": "code",
   "execution_count": 286,
   "id": "1ef59f84-ba54-4386-acaf-82c7791fe11f",
   "metadata": {
    "jupyter": {
     "source_hidden": true
    }
   },
   "outputs": [],
   "source": [
    "# Echarts imports\n",
    "from pyecharts import options as opts\n",
    "from pyecharts.globals import  ThemeType\n",
    "from pyecharts.charts import Line"
   ]
  },
  {
   "cell_type": "code",
   "execution_count": 287,
   "id": "20299fc6-c384-4e77-b729-8329ef5da290",
   "metadata": {
    "jupyter": {
     "source_hidden": true
    }
   },
   "outputs": [],
   "source": [
    "from IPython.display import HTML\n",
    "import matplotlib.pyplot as plt"
   ]
  },
  {
   "cell_type": "code",
   "execution_count": 288,
   "id": "6fef9fa5-9439-4117-a439-73e9ca04ffdf",
   "metadata": {
    "jupyter": {
     "source_hidden": true
    }
   },
   "outputs": [],
   "source": [
    "from common.log_helper import LogHelper\n",
    "from backtest.scale_backtest_args import ScaleBacktestArgGen\n",
    "from backtest.scale_backtest import ScaleBacktest\n",
    "from modelservice.alpha_consts import SignalDirection\n",
    "from notebooks.echart_bt_plots import *\n",
    "from notebooks.echart_df_plot import *\n",
    "from copy import deepcopy\n",
    "import concurrent.futures\n",
    "import time\n",
    "import os\n",
    "import requests\n",
    "import json\n",
    "import logging\n",
    "import sys\n",
    "import pandas as pd"
   ]
  },
  {
   "cell_type": "code",
   "execution_count": 289,
   "id": "c423cb8c-d2f3-449e-9931-dc496aaa1ac4",
   "metadata": {},
   "outputs": [],
   "source": [
    "#LogHelper.configure_logging(verbose=False)\n",
    "pd.set_option(\"display.precision\", 2)\n",
    "pd.set_option('display.float_format', '{:.2f}'.format)"
   ]
  },
  {
   "cell_type": "code",
   "execution_count": 290,
   "id": "d9d10d30-3ea5-4439-a099-a053915477ab",
   "metadata": {},
   "outputs": [],
   "source": [
    "BtArgs : dict = {\n",
    "    'common': {\n",
    "        'start_time': '09:15:01',\n",
    "        'end_time' :  '15:24:30',\n",
    "    },\n",
    "    'alpha': {\n",
    "        'sigmult' : None,\n",
    "        'smoother' : None,\n",
    "    },\n",
    "    'execution': {\n",
    "        'exec_instr_type' : 'NK_F',        \n",
    "        'price_type' : 'CROSS',\n",
    "        'opt_trd_offset' : 2,\n",
    "        'quote_lots' : 1,\n",
    "        'stop_loss': 0,\n",
    "        'max_loss' : 0,\n",
    "        'profit_target' : 0\n",
    "    }\n",
    "}"
   ]
  },
  {
   "cell_type": "code",
   "execution_count": 291,
   "id": "5d06c273-507e-48d8-9e99-db0aeb73b51a",
   "metadata": {},
   "outputs": [],
   "source": [
    "dump_base_dir = \"/home/qoptrprod/data/dumps/\"\n",
    "underlyings = [\"NIFTY_I\",\"BANKNIFTY_I\",\"FINNIFTY_I\",\"MIDCPNIFTY_I\"]\n",
    "#underlyings = [\"NIFTY_I\"]\n",
    "trading_dates = [20240319, 20240320, 20240321, 20240322, 20240326, 20240327,\n",
    "                 20240328, 20240401, 20240402, 20240403, 20240404, 20240405,\n",
    "                 20240408, 20240409, 20240410, 20240412, 20240415, 20240416,\n",
    "                 20240418, 20240419\n",
    "                ]\n",
    "#trading_dates = [20240321,20240328,20240404,20240418]\n",
    "trading_dates = [str(t) for t in trading_dates]\n",
    "stop_loss = -7000\n",
    "sig_mults = [0.5]\n",
    "smoothers = [\n",
    "        {\n",
    "            'TS' : {'enabled': False, 'type' : 'STABLEWIN' , 'timeperiod' : 0 },\n",
    "            'UL' : {'enabled': True, 'type' : 'EMA' , 'timeperiod' : 30 },\n",
    "            'CP' : {'enabled': True, 'type' : 'SMA' , 'timeperiod' : 30 },            \n",
    "        },\n",
    "        {\n",
    "            'TS' : {'enabled': False, 'type' : 'STABLEWIN' , 'timeperiod' : 0 },\n",
    "            'UL' : {'enabled': True, 'type' : 'EMA' , 'timeperiod' : 3 * 60 },\n",
    "            'CP' : {'enabled': True, 'type' : 'SMA' , 'timeperiod' : 3 * 60 },            \n",
    "        },\n",
    "        {\n",
    "            'TS' : {'enabled': False, 'type' : 'STABLEWIN' , 'timeperiod' : 0 },\n",
    "            'UL' : {'enabled': True, 'type' : 'EMA' , 'timeperiod' : 30 },\n",
    "            'CP' : {'enabled': True, 'type' : 'SMA' , 'timeperiod' : 30 },            \n",
    "            'MACD' : {'enabled': True, 'dfast' : 2*60, 'dslow' : 5*60, 'dsig' : 3*60, 'timeperiod' : 'macd1'  },                        \n",
    "        },\n",
    "        {\n",
    "            'TS' : {'enabled': False, 'type' : 'STABLEWIN' , 'timeperiod' : 0 },\n",
    "            'UL' : {'enabled': True, 'type' : 'EMA' , 'timeperiod' : 3 * 60 },\n",
    "            'CP' : {'enabled': True, 'type' : 'SMA' , 'timeperiod' : 3 * 60 },            \n",
    "            'MACD' : {'enabled': True, 'dfast' : 2*60, 'dslow' : 5*60, 'dsig' : 3*60, 'timeperiod' : 'macd1'  },                        \n",
    "        },\n",
    "        {\n",
    "            'TS' : {'enabled': False, 'type' : 'STABLEWIN' , 'timeperiod' : 0 },\n",
    "            'UL' : {'enabled': True, 'type' : 'EMA' , 'timeperiod' : 3 * 60 },\n",
    "            'CP' : {'enabled': True, 'type' : 'SMA' , 'timeperiod' : 3 * 60 },            \n",
    "            'MACD' : {'enabled': True, 'dfast' : 5*60, 'dslow' : 13*60, 'dsig' : 8*60, 'timeperiod' : 'macd2'},\n",
    "        }\n",
    "   ] "
   ]
  },
  {
   "cell_type": "code",
   "execution_count": 292,
   "id": "a5b4a321-ba48-4979-9140-50886efcb1af",
   "metadata": {},
   "outputs": [],
   "source": [
    "def bt_wrap(arg_obj):\n",
    "    bt = ScaleBacktest(arg_obj)\n",
    "    scale_result = bt.run_bt(show_trades=False)\n",
    "    return scale_result"
   ]
  },
  {
   "cell_type": "code",
   "execution_count": null,
   "id": "0dd33185-2640-4835-b054-54ec5393967b",
   "metadata": {
    "jupyter": {
     "source_hidden": true
    }
   },
   "outputs": [],
   "source": [
    "results = []\n",
    "with concurrent.futures.ProcessPoolExecutor(max_workers=4) as executor:\n",
    "    fmaplist = []\n",
    "    for underlying in underlyings:\n",
    "        for trading_date in trading_dates:\n",
    "            for smoother in smoothers:\n",
    "                for sigmult in sig_mults:            \n",
    "                    bt_args = deepcopy(BtArgs)\n",
    "                    bt_args['alpha']['sigmult'] = sigmult\n",
    "                    bt_args['alpha']['smoother'] = smoother\n",
    "                    enab_flag = ''.join([str(smoother[k]['enabled'])[0] for k in smoother.keys()])\n",
    "                    ts_valstr = '_'.join([str(smoother[k]['timeperiod']) for k in smoother.keys()])\n",
    "                    key = f\"mult={sigmult}~dur={enab_flag}_{ts_valstr}\"\n",
    "                    arg_obj = ScaleBacktestArgGen.resolve_and_gen_args(dump_base_dir,underlying,trading_date=trading_date,bt_args=bt_args)\n",
    "                    fmaplist.append(\n",
    "                        {\n",
    "                            'a.date' : trading_date,\n",
    "                            'b.underlying' : underlying,\n",
    "                            'c.key' : key,\n",
    "                            'process' : executor.submit(bt_wrap, arg_obj)\n",
    "                        })\n",
    "    \n",
    "    for fmap in fmaplist:\n",
    "        sdr = {}\n",
    "        for k,v in fmap.items():\n",
    "            if k == 'process':\n",
    "                result = v.result()\n",
    "                for sk, sv in result['summary'].items():\n",
    "                    sdr[sk] = sv\n",
    "            else:\n",
    "                sdr[k] = v\n",
    "        results.append(sdr)\n",
    "# process results               \n"
   ]
  },
  {
   "cell_type": "code",
   "execution_count": 294,
   "id": "46b12342-f991-4215-9905-e5f4b29fea6f",
   "metadata": {
    "jupyter": {
     "source_hidden": true
    }
   },
   "outputs": [],
   "source": [
    "sdf = pd.DataFrame(results, columns=sorted(results[0].keys()))\n",
    "sdf = sdf.drop(columns=['to'])\n",
    "sdf = sdf.rename(columns={'avg_entry_px' : 'apx', 'max_hold_sec' : 'hold', 'num_trades' : 'nt', 'quote_lots' : 'ql'})\n",
    "sdf['orig_net_pnl'] = sdf['net_pnl']\n",
    "sdf.loc[sdf['net_pnl'] < stop_loss, 'net_pnl'] = stop_loss\n",
    "sdf['SLFail'] = sdf['orig_net_pnl'] > sdf['net_pnl']\n",
    "sdf['day'] = pd.to_datetime(sdf['a.date'], format='%Y%m%d').dt.day_name()"
   ]
  },
  {
   "cell_type": "code",
   "execution_count": 295,
   "id": "5370839b-a381-453d-b584-fe16884b2f16",
   "metadata": {},
   "outputs": [],
   "source": [
    "#display(sdf)"
   ]
  },
  {
   "cell_type": "markdown",
   "id": "d7cfdab0-01a6-4588-be6c-5f4318175c3e",
   "metadata": {},
   "source": [
    "### Summary"
   ]
  },
  {
   "cell_type": "code",
   "execution_count": 296,
   "id": "b5cf2edb-f82e-4d54-bcd3-d9ccbd516cd0",
   "metadata": {
    "jupyter": {
     "source_hidden": true
    }
   },
   "outputs": [
    {
     "data": {
      "text/html": [
       "<div>\n",
       "<style scoped>\n",
       "    .dataframe tbody tr th:only-of-type {\n",
       "        vertical-align: middle;\n",
       "    }\n",
       "\n",
       "    .dataframe tbody tr th {\n",
       "        vertical-align: top;\n",
       "    }\n",
       "\n",
       "    .dataframe thead tr th {\n",
       "        text-align: left;\n",
       "    }\n",
       "\n",
       "    .dataframe thead tr:last-of-type th {\n",
       "        text-align: right;\n",
       "    }\n",
       "</style>\n",
       "<table border=\"1\" class=\"dataframe\">\n",
       "  <thead>\n",
       "    <tr>\n",
       "      <th></th>\n",
       "      <th colspan=\"6\" halign=\"left\">net_pnl</th>\n",
       "      <th>tcost</th>\n",
       "      <th>max_loss</th>\n",
       "      <th>max_profit</th>\n",
       "      <th>nt</th>\n",
       "      <th>lot_size</th>\n",
       "      <th>apx</th>\n",
       "    </tr>\n",
       "    <tr>\n",
       "      <th></th>\n",
       "      <th>sum</th>\n",
       "      <th>days</th>\n",
       "      <th>neg</th>\n",
       "      <th>stop_loss_fails</th>\n",
       "      <th>median</th>\n",
       "      <th>mean</th>\n",
       "      <th>sum</th>\n",
       "      <th>min</th>\n",
       "      <th>max</th>\n",
       "      <th>sum</th>\n",
       "      <th>max</th>\n",
       "      <th>max</th>\n",
       "    </tr>\n",
       "    <tr>\n",
       "      <th>b.underlying</th>\n",
       "      <th></th>\n",
       "      <th></th>\n",
       "      <th></th>\n",
       "      <th></th>\n",
       "      <th></th>\n",
       "      <th></th>\n",
       "      <th></th>\n",
       "      <th></th>\n",
       "      <th></th>\n",
       "      <th></th>\n",
       "      <th></th>\n",
       "      <th></th>\n",
       "    </tr>\n",
       "  </thead>\n",
       "  <tbody>\n",
       "    <tr>\n",
       "      <th>BANKNIFTY_I</th>\n",
       "      <td>-51876.30</td>\n",
       "      <td>100</td>\n",
       "      <td>63</td>\n",
       "      <td>0</td>\n",
       "      <td>-966.50</td>\n",
       "      <td>-518.76</td>\n",
       "      <td>52934.90</td>\n",
       "      <td>-9604.50</td>\n",
       "      <td>14540.25</td>\n",
       "      <td>574</td>\n",
       "      <td>15</td>\n",
       "      <td>48966</td>\n",
       "    </tr>\n",
       "    <tr>\n",
       "      <th>FINNIFTY_I</th>\n",
       "      <td>-175657.60</td>\n",
       "      <td>100</td>\n",
       "      <td>61</td>\n",
       "      <td>0</td>\n",
       "      <td>-1524.30</td>\n",
       "      <td>-1756.58</td>\n",
       "      <td>42324.60</td>\n",
       "      <td>-16130.00</td>\n",
       "      <td>14952.00</td>\n",
       "      <td>402</td>\n",
       "      <td>40</td>\n",
       "      <td>21788</td>\n",
       "    </tr>\n",
       "    <tr>\n",
       "      <th>MIDCPNIFTY_I</th>\n",
       "      <td>-219161.80</td>\n",
       "      <td>100</td>\n",
       "      <td>71</td>\n",
       "      <td>0</td>\n",
       "      <td>-3825.85</td>\n",
       "      <td>-2191.62</td>\n",
       "      <td>103015.50</td>\n",
       "      <td>-9776.25</td>\n",
       "      <td>12885.00</td>\n",
       "      <td>1028</td>\n",
       "      <td>75</td>\n",
       "      <td>10973</td>\n",
       "    </tr>\n",
       "    <tr>\n",
       "      <th>NIFTY_I</th>\n",
       "      <td>5871.40</td>\n",
       "      <td>100</td>\n",
       "      <td>52</td>\n",
       "      <td>0</td>\n",
       "      <td>-163.15</td>\n",
       "      <td>58.71</td>\n",
       "      <td>56549.40</td>\n",
       "      <td>-9345.00</td>\n",
       "      <td>10985.00</td>\n",
       "      <td>432</td>\n",
       "      <td>50</td>\n",
       "      <td>22805</td>\n",
       "    </tr>\n",
       "  </tbody>\n",
       "</table>\n",
       "</div>"
      ],
      "text/plain": [
       "                net_pnl                                                tcost  \\\n",
       "                    sum days neg stop_loss_fails   median     mean       sum   \n",
       "b.underlying                                                                   \n",
       "BANKNIFTY_I   -51876.30  100  63               0  -966.50  -518.76  52934.90   \n",
       "FINNIFTY_I   -175657.60  100  61               0 -1524.30 -1756.58  42324.60   \n",
       "MIDCPNIFTY_I -219161.80  100  71               0 -3825.85 -2191.62 103015.50   \n",
       "NIFTY_I         5871.40  100  52               0  -163.15    58.71  56549.40   \n",
       "\n",
       "              max_loss max_profit    nt lot_size    apx  \n",
       "                   min        max   sum      max    max  \n",
       "b.underlying                                             \n",
       "BANKNIFTY_I   -9604.50   14540.25   574       15  48966  \n",
       "FINNIFTY_I   -16130.00   14952.00   402       40  21788  \n",
       "MIDCPNIFTY_I  -9776.25   12885.00  1028       75  10973  \n",
       "NIFTY_I       -9345.00   10985.00   432       50  22805  "
      ]
     },
     "metadata": {},
     "output_type": "display_data"
    },
    {
     "name": "stdout",
     "output_type": "stream",
     "text": [
      "   Total PNL: -440824 in 20 days\n",
      "Avgerage PNL: -22041 per day\n"
     ]
    }
   ],
   "source": [
    "import numpy as np\n",
    "def days(l):\n",
    "    return len(l)\n",
    "def neg(l):\n",
    "    return (l < 0).sum()\n",
    "def stop_loss_fails(l):\n",
    "    return (l == True).sum()\n",
    "\n",
    "\n",
    "display(\n",
    "sdf.groupby(['b.underlying']).agg({\n",
    "    'net_pnl' : ['sum', days, neg, stop_loss_fails, 'median', 'mean'],\n",
    "    'tcost':'sum', \n",
    "    'max_loss' : 'min', \n",
    "    'max_profit' : 'max',\n",
    "    'nt' : 'sum',\n",
    "    'lot_size' : 'max',\n",
    "    'apx' : 'max',\n",
    "}))    \n",
    "\n",
    "pnls = sdf.net_pnl.values\n",
    "print(f\"   Total PNL: {round(sum(pnls))} in {len(trading_dates)} days\")\n",
    "print(f\"Avgerage PNL: {round(sum(pnls)/len(trading_dates))} per day\")"
   ]
  },
  {
   "cell_type": "code",
   "execution_count": 297,
   "id": "f80373d6-2eeb-403f-97aa-6229e606a5e9",
   "metadata": {},
   "outputs": [],
   "source": [
    "sdf.to_csv(\"output_ticker.csv\", index=False)"
   ]
  },
  {
   "cell_type": "code",
   "execution_count": null,
   "id": "a3654183-cd4c-4c03-9eef-29b02b999705",
   "metadata": {},
   "outputs": [],
   "source": []
  }
 ],
 "metadata": {
  "kernelspec": {
   "display_name": "Python 3 (ipykernel)",
   "language": "python",
   "name": "python3"
  },
  "language_info": {
   "codemirror_mode": {
    "name": "ipython",
    "version": 3
   },
   "file_extension": ".py",
   "mimetype": "text/x-python",
   "name": "python",
   "nbconvert_exporter": "python",
   "pygments_lexer": "ipython3",
   "version": "3.11.5"
  }
 },
 "nbformat": 4,
 "nbformat_minor": 5
}
