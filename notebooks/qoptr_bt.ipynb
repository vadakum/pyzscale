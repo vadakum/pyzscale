{
 "cells": [
  {
   "cell_type": "code",
   "execution_count": null,
   "id": "b906645f-61ce-4599-966e-6e4f7f6ac698",
   "metadata": {
    "editable": true,
    "slideshow": {
     "slide_type": ""
    },
    "tags": []
   },
   "outputs": [],
   "source": [
    "%load_ext autoreload\n",
    "%autoreload 2"
   ]
  },
  {
   "cell_type": "code",
   "execution_count": null,
   "id": "849bf929-4089-40bb-bf56-30aeccb0e34f",
   "metadata": {},
   "outputs": [],
   "source": [
    "# Echarts Jupyter lab support\n",
    "from pyecharts.globals import CurrentConfig, NotebookType\n",
    "CurrentConfig.NOTEBOOK_TYPE = NotebookType.JUPYTER_LAB"
   ]
  },
  {
   "cell_type": "code",
   "execution_count": null,
   "id": "1ef59f84-ba54-4386-acaf-82c7791fe11f",
   "metadata": {},
   "outputs": [],
   "source": [
    "# Echarts imports\n",
    "from pyecharts import options as opts\n",
    "from pyecharts.globals import  ThemeType\n",
    "from pyecharts.charts import Line, Grid"
   ]
  },
  {
   "cell_type": "code",
   "execution_count": null,
   "id": "20299fc6-c384-4e77-b729-8329ef5da290",
   "metadata": {},
   "outputs": [],
   "source": [
    "from IPython.display import HTML\n",
    "import matplotlib.pyplot as plt"
   ]
  },
  {
   "cell_type": "code",
   "execution_count": null,
   "id": "6fef9fa5-9439-4117-a439-73e9ca04ffdf",
   "metadata": {},
   "outputs": [],
   "source": [
    "from common.log_helper import LogHelper\n",
    "from backtest.scale_backtest_args import ScaleBacktestArgGen\n",
    "from backtest.scale_backtest import ScaleBacktest\n",
    "from modelservice.alpha_consts import SignalDirection\n",
    "from notebooks.echart_bt_plots import *\n",
    "from notebooks.echart_df_plot import *\n",
    "from datetime import datetime\n",
    "from datetime import timedelta\n",
    "import requests\n",
    "import json\n",
    "import logging\n",
    "import sys\n",
    "import pandas as pd"
   ]
  },
  {
   "cell_type": "code",
   "execution_count": null,
   "id": "c423cb8c-d2f3-449e-9931-dc496aaa1ac4",
   "metadata": {},
   "outputs": [],
   "source": [
    "#LogHelper.configure_logging(verbose=False)\n",
    "pd.set_option(\"display.precision\", 2)\n",
    "pd.set_option('display.float_format', '{:.2f}'.format)"
   ]
  },
  {
   "cell_type": "code",
   "execution_count": null,
   "id": "4a4eaff1-f425-4e95-9efe-5846a55aa10f",
   "metadata": {
    "jupyter": {
     "source_hidden": true
    }
   },
   "outputs": [],
   "source": [
    "def colorize(val):\n",
    "    if val == 'B':\n",
    "        color = 'green'\n",
    "    elif val == 'S':\n",
    "        color = 'red'\n",
    "    else:\n",
    "        color = 'black'\n",
    "    return 'color: %s' % color"
   ]
  },
  {
   "cell_type": "code",
   "execution_count": null,
   "id": "d9d10d30-3ea5-4439-a099-a053915477ab",
   "metadata": {},
   "outputs": [],
   "source": [
    "BtArgs = {\n",
    "    'common': {\n",
    "        'start_time': '09:15:01',\n",
    "        'end_time' : '15:29:00',\n",
    "    },\n",
    "    'alpha': {\n",
    "        'sigmult' : 0.5,\n",
    "        'smoother' : {\n",
    "            'enabled' : False,\n",
    "        }\n",
    "    },\n",
    "    'execution': {\n",
    "        'exec_instr_type' : 'NK_F',        \n",
    "        'price_type' : 'LTP',\n",
    "        'stop_loss': 0,\n",
    "        'max_loss' : 0,\n",
    "    }\n",
    "}"
   ]
  },
  {
   "cell_type": "code",
   "execution_count": null,
   "id": "5d06c273-507e-48d8-9e99-db0aeb73b51a",
   "metadata": {},
   "outputs": [],
   "source": [
    "dump_base_dir = \"/home/qoptrprod/data/dumps/\"\n",
    "trading_date = \"20240319\"\n",
    "underlying = \"MIDCPNIFTY_I\""
   ]
  },
  {
   "cell_type": "code",
   "execution_count": null,
   "id": "b5cf2edb-f82e-4d54-bcd3-d9ccbd516cd0",
   "metadata": {
    "jupyter": {
     "source_hidden": true
    }
   },
   "outputs": [],
   "source": [
    "ul = underlying.split('_')[0]\n",
    "url = f'http://someurl.com/api/chain_app/runcmpbt/?ul={ul}&sdate={trading_date}&edate={trading_date}'\n",
    "#print(url)\n",
    "response = requests.get(url=url)"
   ]
  },
  {
   "cell_type": "code",
   "execution_count": null,
   "id": "5cf63a81-fbc4-494a-a2db-14b9bd4f21ea",
   "metadata": {
    "jupyter": {
     "source_hidden": true
    }
   },
   "outputs": [],
   "source": [
    "qoptr_dict_list = json.loads(response.text)\n",
    "qoptr_day_result = qoptr_dict_list[0]['day_results'][0]\n",
    "qoptr_signals = qoptr_day_result['signals']\n",
    "print(\"QOPTR Results\")\n",
    "pd.DataFrame([qoptr_day_result['summary']])"
   ]
  },
  {
   "cell_type": "code",
   "execution_count": null,
   "id": "5296b3a4-c2c9-4922-9fb5-50aa90119e76",
   "metadata": {},
   "outputs": [],
   "source": [
    "arg_obj = ScaleBacktestArgGen.resolve_and_gen_args(\n",
    "    dump_base_dir=dump_base_dir,\n",
    "    underlying=underlying,\n",
    "    trading_date=trading_date,\n",
    "    bt_args=BtArgs\n",
    ")\n",
    "bt = ScaleBacktest(arg_obj)\n",
    "result = bt.run_bt_with_qoptr_signal(qoptr_signals, shift=1)\n",
    "trade_df = pd.DataFrame(result['trademarkers'])"
   ]
  },
  {
   "cell_type": "code",
   "execution_count": null,
   "id": "2300f6e2-7148-4d79-a1ad-1d724de0006a",
   "metadata": {
    "jupyter": {
     "source_hidden": true
    }
   },
   "outputs": [],
   "source": [
    "def buy_or_sell(v):\n",
    "    if v == 'BUY':\n",
    "        return 'color : lightgreen'\n",
    "    elif v == 'SELL':\n",
    "        return 'color : red'\n",
    "    elif v == 'OPEN':        \n",
    "        return 'background-color : darkorange'   \n",
    "    elif v == None:\n",
    "        return ''\n",
    "    return ''"
   ]
  },
  {
   "cell_type": "code",
   "execution_count": null,
   "id": "db735218-bbe4-40d5-b98d-480dd51d471e",
   "metadata": {},
   "outputs": [],
   "source": [
    "sum_df = pd.DataFrame([result['summary']])\n",
    "sum_df"
   ]
  },
  {
   "cell_type": "code",
   "execution_count": null,
   "id": "cce04e63-2986-4462-86cf-3eec80166fc0",
   "metadata": {},
   "outputs": [],
   "source": [
    "#trade_df.style.map(lambda x: buy_or_sell(x)).format({col: \"{:.1f}\" for col in ['price','profit','cost','to','sigval', 'cpx','ppx','ulpx', 'atm']})"
   ]
  },
  {
   "cell_type": "markdown",
   "id": "cae9b58c-512f-423e-b87c-1b7513f57115",
   "metadata": {},
   "source": [
    "### Signal Run To For Detailed Plots"
   ]
  },
  {
   "cell_type": "code",
   "execution_count": null,
   "id": "a67318af-19aa-4a23-bd56-5fe8b23c5853",
   "metadata": {},
   "outputs": [],
   "source": [
    "sig_args_obj = arg_obj\n",
    "bt = ScaleBacktest(sig_args_obj)\n",
    "result = bt.run_signal()"
   ]
  },
  {
   "cell_type": "code",
   "execution_count": null,
   "id": "ebe4a76a-c74d-4a69-a667-13caa7e53ca2",
   "metadata": {},
   "outputs": [],
   "source": [
    "# create signal_df with additional time stamp column for comparisons\n",
    "signal_df = pd.DataFrame(result)\n",
    "signal_df['ts'] = pd.to_datetime(signal_df['ulexts'])"
   ]
  },
  {
   "cell_type": "code",
   "execution_count": null,
   "id": "d7413624-cc33-4e0a-bf42-5446cc94e167",
   "metadata": {},
   "outputs": [],
   "source": [
    "trade_plot = plot_trade_signals(signal_df, trade_df, sum_df, show_pnl_markers=True, show_legends=True)"
   ]
  },
  {
   "cell_type": "code",
   "execution_count": null,
   "id": "a38c6c0d-02b0-4d6d-813d-60f5bb6c5cd9",
   "metadata": {},
   "outputs": [],
   "source": [
    "trade_plot.load_javascript()"
   ]
  },
  {
   "cell_type": "code",
   "execution_count": null,
   "id": "74b25c82-6d40-4379-bf16-14b06efdd5f2",
   "metadata": {},
   "outputs": [],
   "source": [
    "trade_plot.render_notebook()"
   ]
  },
  {
   "cell_type": "markdown",
   "id": "d30cb142-5d29-4d2e-ae31-653f0a964c58",
   "metadata": {},
   "source": [
    "### QSignal vs Scale Signal"
   ]
  },
  {
   "cell_type": "code",
   "execution_count": null,
   "id": "371d1d4c-4531-4878-a3ac-850d65c797d8",
   "metadata": {},
   "outputs": [],
   "source": [
    "qs_df = pd.DataFrame(qoptr_signals)\n",
    "qs_df['ts'] = pd.to_datetime(qs_df['ulexts'])"
   ]
  },
  {
   "cell_type": "code",
   "execution_count": null,
   "id": "f9a1dbd0-7169-4a1f-9851-6391c1af8086",
   "metadata": {},
   "outputs": [],
   "source": [
    "display(signal_df.head(1))\n",
    "display(qs_df.head(1))"
   ]
  },
  {
   "cell_type": "code",
   "execution_count": null,
   "id": "b67259c9-5512-469c-b87a-e67c704e19fc",
   "metadata": {},
   "outputs": [],
   "source": [
    "shift_min = 0"
   ]
  },
  {
   "cell_type": "code",
   "execution_count": null,
   "id": "4b346794-1e7e-49ca-b8f8-6ea12f9fb869",
   "metadata": {
    "jupyter": {
     "source_hidden": true
    }
   },
   "outputs": [],
   "source": [
    "merge_list = []\n",
    "color_none = 'rgba(100, 100, 100, 0.5)'\n",
    "\n",
    "color_red_1 = 'rgba(230,50,100, 0.5)' \n",
    "color_green_1 = 'rgba(50,200,100,0.5)'\n",
    "\n",
    "color_red_2 = 'rgba(230,50,100,0.9)' \n",
    "color_green_2 = 'rgba(50,200,100,0.9)'\n",
    "\n",
    "q_mp_val = []\n",
    "s_mp_val = []\n",
    "q_mp_ul = []\n",
    "s_mp_ul = []\n",
    "\n",
    "for _, qrow in qs_df.iterrows():\n",
    "    scale = signal_df.loc[signal_df.ts == qrow.ts - timedelta(minutes=shift_min) ]\n",
    "    if not scale.empty:\n",
    "        str_time = scale.ulexts.values[0].split(' ')[1]\n",
    "        merge_list.append({'ulexts' : str_time, \n",
    "                           'qoptr_ulpx' : qrow.ulpx, \n",
    "                           'scale_ulpx' : scale.ulpx.values[0],\n",
    "\n",
    "                           'qoptr_atm' : qrow.atm, \n",
    "                           'scale_atm' : scale.atm.values[0],\n",
    "                           \n",
    "                           'qoptr_cpx' : qrow.cpx, \n",
    "                           'scale_cpx' : scale.cpx.values[0],\n",
    "\n",
    "                           'qoptr_ppx' : qrow.ppx, \n",
    "                           'scale_ppx' : scale.ppx.values[0],\n",
    "\n",
    "                           'qoptr_val' : qrow.val, \n",
    "                           'scale_val' : scale.val.values[0],\n",
    "                          }\n",
    "                         )\n",
    "        if qrow.dir == SignalDirection.BUY or qrow.dir == SignalDirection.SELL:\n",
    "            color = color_none\n",
    "            if qrow.dir == SignalDirection.BUY:\n",
    "                color = color_green_1\n",
    "            elif qrow.dir == SignalDirection.SELL:\n",
    "                color = color_red_1\n",
    "            q_mp_val.append(opts.MarkPointItem(coord=[str_time, qrow.val], \n",
    "                    symbol='circle',               \n",
    "                    symbol_size=[12, 12],\n",
    "                    itemstyle_opts=opts.ItemStyleOpts(color=color),\n",
    "                    ))\n",
    "            q_mp_ul.append(opts.MarkPointItem(coord=[str_time, qrow.ulpx], \n",
    "                    symbol='circle',               \n",
    "                    symbol_size=[12, 12],\n",
    "                    itemstyle_opts=opts.ItemStyleOpts(color=color),\n",
    "                    ))\n",
    "        \n",
    "        scale_dir = scale.dir.values[0]    \n",
    "        if scale_dir == SignalDirection.BUY or scale_dir == SignalDirection.SELL:\n",
    "            color = color_none\n",
    "            if scale_dir == SignalDirection.BUY:\n",
    "                color = color_green_2\n",
    "            elif scale_dir == SignalDirection.SELL:\n",
    "                color = color_red_2\n",
    "            s_mp_val.append(opts.MarkPointItem(coord=[str_time, scale.val.values[0]], \n",
    "                    symbol='circle',               \n",
    "                    symbol_size=[7, 7],\n",
    "                    itemstyle_opts=opts.ItemStyleOpts(color=color),\n",
    "                    ))\n",
    "            s_mp_ul.append(opts.MarkPointItem(coord=[str_time, scale.ulpx.values[0]], \n",
    "                    symbol='circle',               \n",
    "                    symbol_size=[7, 7],\n",
    "                    itemstyle_opts=opts.ItemStyleOpts(color=color),\n",
    "                    ))\n",
    "            \n",
    "merge_df = pd.DataFrame(merge_list)      \n",
    "merge_df.head(1)"
   ]
  },
  {
   "cell_type": "code",
   "execution_count": null,
   "id": "8631f38e-c762-4884-af96-0de14db8e61d",
   "metadata": {
    "jupyter": {
     "source_hidden": true
    }
   },
   "outputs": [],
   "source": [
    "merge_ulpx_plot = plot_df_simple(merge_df, title=\"QOPTR vs Scale Underlying\", x_col='ulexts', y_cols=['qoptr_ulpx', 'scale_ulpx'],\n",
    "                                mark_points={\n",
    "                                    'qoptr_ulpx' : q_mp_ul,\n",
    "                                    'scale_ulpx' : s_mp_ul,\n",
    "                                }\n",
    "                                    )\n",
    "merge_atm_plot = plot_df_simple(merge_df, title=\"QOPTR vs Scale ATM\", x_col='ulexts', y_cols=['qoptr_atm', 'scale_atm'])\n",
    "merge_val_plot = plot_df_simple(merge_df, title=\"QOPTR vs Scale Signal Values\", x_col='ulexts', y_cols=['qoptr_val', 'scale_val'],\n",
    "                                mark_points={\n",
    "                                    'qoptr_val' : q_mp_val,\n",
    "                                    'scale_val' : s_mp_val\n",
    "                                    }\n",
    "                               )\n",
    "merge_cpx_plot = plot_df_simple(merge_df, title=\"QOPTR vs Scale Call Prices\", x_col='ulexts', y_cols=['qoptr_cpx', 'scale_cpx'])\n",
    "merge_ppx_plot = plot_df_simple(merge_df, title=\"QOPTR vs Scale Put Prices\", x_col='ulexts', y_cols=['qoptr_ppx', 'scale_ppx'])"
   ]
  },
  {
   "cell_type": "code",
   "execution_count": null,
   "id": "5616bd7c-4f93-427c-bd4c-a5db5b30359c",
   "metadata": {
    "jupyter": {
     "source_hidden": true
    }
   },
   "outputs": [],
   "source": [
    "merge_ulpx_plot.load_javascript()\n",
    "merge_atm_plot.load_javascript()\n",
    "merge_val_plot.load_javascript()\n",
    "merge_cpx_plot.load_javascript()\n",
    "merge_ppx_plot.load_javascript()"
   ]
  },
  {
   "cell_type": "code",
   "execution_count": null,
   "id": "45c211d5-e1e9-42d7-8e57-cc353231d820",
   "metadata": {},
   "outputs": [],
   "source": [
    "merge_ulpx_plot.render_notebook()"
   ]
  },
  {
   "cell_type": "code",
   "execution_count": null,
   "id": "43bd38a4-a5f3-40fa-8a2c-b2badca0e8b7",
   "metadata": {},
   "outputs": [],
   "source": [
    "merge_atm_plot.render_notebook()"
   ]
  },
  {
   "cell_type": "code",
   "execution_count": null,
   "id": "74fe83ff-6911-4b1f-9cff-51a9a06189e1",
   "metadata": {},
   "outputs": [],
   "source": [
    "merge_val_plot.render_notebook()"
   ]
  },
  {
   "cell_type": "code",
   "execution_count": null,
   "id": "42a7d0f6-0c57-4335-9afb-2f63d603235f",
   "metadata": {},
   "outputs": [],
   "source": [
    "merge_cpx_plot.render_notebook()"
   ]
  },
  {
   "cell_type": "code",
   "execution_count": null,
   "id": "8f5007f2-8c29-4c23-83a6-840033cd68bf",
   "metadata": {},
   "outputs": [],
   "source": [
    "merge_ppx_plot.render_notebook()"
   ]
  },
  {
   "cell_type": "code",
   "execution_count": null,
   "id": "17f4ba5f-03d6-4d1d-956d-bbea6485b4cd",
   "metadata": {
    "jupyter": {
     "source_hidden": true
    }
   },
   "outputs": [],
   "source": [
    "merge_val_plot.set_global_opts(\n",
    "    axispointer_opts=opts.AxisPointerOpts(\n",
    "            is_show=True, link=[{\"xAxisIndex\": \"all\"}]\n",
    "        ),\n",
    "    datazoom_opts=[\n",
    "            opts.DataZoomOpts(\n",
    "                is_show=True,\n",
    "                is_realtime=True,\n",
    "                start_value=30,\n",
    "                end_value=70,\n",
    "                xaxis_index=[0, 1],\n",
    "            )\n",
    "        ],\n",
    "    legend_opts=opts.LegendOpts(pos_left=\"left\"),\n",
    ")"
   ]
  },
  {
   "cell_type": "code",
   "execution_count": null,
   "id": "c6ed92ab-daf9-4369-876b-bcb8338c1ba9",
   "metadata": {
    "jupyter": {
     "source_hidden": true
    }
   },
   "outputs": [],
   "source": [
    "merge_atm_plot.set_global_opts(\n",
    "        axispointer_opts=opts.AxisPointerOpts(\n",
    "            is_show=True, link=[{\"xAxisIndex\": \"all\"}]\n",
    "        ),\n",
    "        xaxis_opts=opts.AxisOpts(\n",
    "            grid_index=1,\n",
    "            position=\"top\",\n",
    "        ),\n",
    "        datazoom_opts=[\n",
    "            opts.DataZoomOpts(\n",
    "                is_realtime=True,\n",
    "                type_=\"inside\",\n",
    "                xaxis_index=[0, 1],\n",
    "            )\n",
    "        ],\n",
    "        legend_opts=opts.LegendOpts(pos_left=\"7%\"),\n",
    "    )"
   ]
  },
  {
   "cell_type": "code",
   "execution_count": null,
   "id": "6ec57e51-5467-4cbb-84bc-89df337ccce9",
   "metadata": {
    "jupyter": {
     "source_hidden": true
    }
   },
   "outputs": [],
   "source": [
    "grid = (Grid(init_opts=opts.InitOpts(theme=ThemeType.DARK, width='1200px', height='500px'))\n",
    "        .add(merge_val_plot, grid_opts=opts.GridOpts(pos_left=50, pos_right=50, height=\"35%\"))\n",
    "        .add(merge_atm_plot, grid_opts=opts.GridOpts(pos_left=50, pos_right=50, pos_top=\"55%\", height=\"35%\"))\n",
    "       )\n",
    "grid.load_javascript()"
   ]
  },
  {
   "cell_type": "code",
   "execution_count": null,
   "id": "c74b5909-03ce-48df-913a-53efa41ce08a",
   "metadata": {},
   "outputs": [],
   "source": [
    "grid.render_notebook()"
   ]
  },
  {
   "cell_type": "code",
   "execution_count": null,
   "id": "ffb82910-0164-4e91-9e64-8e596206065e",
   "metadata": {},
   "outputs": [],
   "source": []
  }
 ],
 "metadata": {
  "kernelspec": {
   "display_name": "Python 3 (ipykernel)",
   "language": "python",
   "name": "python3"
  },
  "language_info": {
   "codemirror_mode": {
    "name": "ipython",
    "version": 3
   },
   "file_extension": ".py",
   "mimetype": "text/x-python",
   "name": "python",
   "nbconvert_exporter": "python",
   "pygments_lexer": "ipython3",
   "version": "3.11.5"
  }
 },
 "nbformat": 4,
 "nbformat_minor": 5
}
