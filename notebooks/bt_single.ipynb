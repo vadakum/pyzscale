{
 "cells": [
  {
   "cell_type": "code",
   "execution_count": null,
   "id": "b906645f-61ce-4599-966e-6e4f7f6ac698",
   "metadata": {
    "editable": true,
    "slideshow": {
     "slide_type": ""
    },
    "tags": []
   },
   "outputs": [],
   "source": [
    "%load_ext autoreload\n",
    "%autoreload 2"
   ]
  },
  {
   "cell_type": "code",
   "execution_count": null,
   "id": "849bf929-4089-40bb-bf56-30aeccb0e34f",
   "metadata": {
    "jupyter": {
     "source_hidden": true
    }
   },
   "outputs": [],
   "source": [
    "# Echarts Jupyter lab support\n",
    "from pyecharts.globals import CurrentConfig, NotebookType\n",
    "CurrentConfig.NOTEBOOK_TYPE = NotebookType.JUPYTER_LAB"
   ]
  },
  {
   "cell_type": "code",
   "execution_count": null,
   "id": "1ef59f84-ba54-4386-acaf-82c7791fe11f",
   "metadata": {
    "jupyter": {
     "source_hidden": true
    }
   },
   "outputs": [],
   "source": [
    "# Echarts imports\n",
    "from pyecharts import options as opts\n",
    "from pyecharts.globals import  ThemeType\n",
    "from pyecharts.charts import Line"
   ]
  },
  {
   "cell_type": "code",
   "execution_count": null,
   "id": "20299fc6-c384-4e77-b729-8329ef5da290",
   "metadata": {
    "jupyter": {
     "source_hidden": true
    }
   },
   "outputs": [],
   "source": [
    "from IPython.display import HTML\n",
    "import matplotlib.pyplot as plt"
   ]
  },
  {
   "cell_type": "code",
   "execution_count": null,
   "id": "6fef9fa5-9439-4117-a439-73e9ca04ffdf",
   "metadata": {
    "jupyter": {
     "source_hidden": true
    }
   },
   "outputs": [],
   "source": [
    "from common.log_helper import LogHelper\n",
    "from backtest.scale_backtest_args import ScaleBacktestArgGen\n",
    "from backtest.scale_backtest import ScaleBacktest\n",
    "from modelservice.alpha_consts import SignalDirection\n",
    "from notebooks.echart_bt_plots import *\n",
    "from notebooks.echart_df_plot import *\n",
    "import logging\n",
    "import sys\n",
    "import pandas as pd"
   ]
  },
  {
   "cell_type": "code",
   "execution_count": null,
   "id": "c423cb8c-d2f3-449e-9931-dc496aaa1ac4",
   "metadata": {
    "jupyter": {
     "source_hidden": true
    }
   },
   "outputs": [],
   "source": [
    "#LogHelper.configure_logging(verbose=False)\n",
    "pd.set_option(\"display.precision\", 2)\n",
    "pd.set_option('display.float_format', '{:.2f}'.format)"
   ]
  },
  {
   "cell_type": "code",
   "execution_count": null,
   "id": "4a4eaff1-f425-4e95-9efe-5846a55aa10f",
   "metadata": {
    "jupyter": {
     "source_hidden": true
    }
   },
   "outputs": [],
   "source": [
    "def colorize(val):\n",
    "    if val == 'B':\n",
    "        color = 'green'\n",
    "    elif val == 'S':\n",
    "        color = 'red'\n",
    "    else:\n",
    "        color = 'black'\n",
    "    return 'color: %s' % color"
   ]
  },
  {
   "cell_type": "code",
   "execution_count": null,
   "id": "d9d10d30-3ea5-4439-a099-a053915477ab",
   "metadata": {},
   "outputs": [],
   "source": [
    "BtArgs = {\n",
    "    'common': {\n",
    "        'start_time': '09:15:01',\n",
    "        'end_time' : '15:24:30',\n",
    "        # 'start_time': '13:20:01',\n",
    "        # 'end_time' : '13:30:01',\n",
    "    },\n",
    "    'alpha': {\n",
    "        'sigmult' : 0.5,\n",
    "        'smoother' : {\n",
    "            'TS' : {'enabled': False, 'type' : 'STABLEWIN' , 'timeperiod' : 3 * 60 },\n",
    "            'UL' : {'enabled': True, 'type' : 'EMA' , 'timeperiod' : 30 },\n",
    "            'CP' : {'enabled': True, 'type' : 'SMA' , 'timeperiod' : 30 },            \n",
    "            'E3' : {'enabled': True, 'timeperiod' : 13 * 60 },                        \n",
    "            'MACD' : {'enabled': True, 'dfast' : 12*3*60, 'dslow' : 26*3*60, 'dsig' : 9*3*60 },                        \n",
    "        }\n",
    "    },\n",
    "    'execution': {\n",
    "        'exec_instr_type' : 'NK_F',        \n",
    "        'price_type' : 'CROSS', \n",
    "        'opt_trd_offset' : 2,\n",
    "        'quote_lots' : 1,\n",
    "        'stop_loss': 0,\n",
    "        'max_loss' : 0,\n",
    "        'profit_target' : 0\n",
    "    }\n",
    "}"
   ]
  },
  {
   "cell_type": "code",
   "execution_count": null,
   "id": "5d06c273-507e-48d8-9e99-db0aeb73b51a",
   "metadata": {},
   "outputs": [],
   "source": [
    "dump_base_dir = \"/home/qoptrprod/data/dumps/\"\n",
    "trading_date = \"20240419\"\n",
    "underlying = \"NIFTY_I\""
   ]
  },
  {
   "cell_type": "code",
   "execution_count": null,
   "id": "5296b3a4-c2c9-4922-9fb5-50aa90119e76",
   "metadata": {
    "jupyter": {
     "source_hidden": true
    }
   },
   "outputs": [],
   "source": [
    "arg_obj = ScaleBacktestArgGen.resolve_and_gen_args(\n",
    "    dump_base_dir=dump_base_dir,\n",
    "    underlying=underlying,\n",
    "    trading_date=trading_date,\n",
    "    bt_args=BtArgs\n",
    ")\n",
    "bt = ScaleBacktest(arg_obj)\n",
    "result = bt.run_bt()\n",
    "trade_df = pd.DataFrame(result['trademarkers'])"
   ]
  },
  {
   "cell_type": "code",
   "execution_count": null,
   "id": "8c8d7dc4-a37b-4e89-a5a3-b6a41e20bbd9",
   "metadata": {},
   "outputs": [],
   "source": [
    "#print(result)"
   ]
  },
  {
   "cell_type": "code",
   "execution_count": null,
   "id": "2300f6e2-7148-4d79-a1ad-1d724de0006a",
   "metadata": {
    "jupyter": {
     "source_hidden": true
    }
   },
   "outputs": [],
   "source": [
    "def buy_or_sell(v):\n",
    "    if v == 'BUY':\n",
    "        return 'color : lightgreen'\n",
    "    elif v == 'SELL':\n",
    "        return 'color : red'\n",
    "    elif v == 'OPEN':        \n",
    "        return 'background-color : darkorange'   \n",
    "    elif v == None:\n",
    "        return ''\n",
    "    return ''"
   ]
  },
  {
   "cell_type": "code",
   "execution_count": null,
   "id": "cce04e63-2986-4462-86cf-3eec80166fc0",
   "metadata": {},
   "outputs": [],
   "source": [
    "#trade_df.style.map(lambda x: buy_or_sell(x)).format({col: \"{:.1f}\" for col in ['price','profit','cost','to','sigval', 'cpx','ppx','ulpx', 'atm']})"
   ]
  },
  {
   "cell_type": "code",
   "execution_count": null,
   "id": "c53f0f83-c10d-45d3-b072-2777c5245b7d",
   "metadata": {},
   "outputs": [],
   "source": [
    "sum_df = pd.DataFrame([result['summary']])\n",
    "sum_df"
   ]
  },
  {
   "cell_type": "markdown",
   "id": "cae9b58c-512f-423e-b87c-1b7513f57115",
   "metadata": {},
   "source": [
    "### Signal Run To For Detailed Plots"
   ]
  },
  {
   "cell_type": "code",
   "execution_count": null,
   "id": "a67318af-19aa-4a23-bd56-5fe8b23c5853",
   "metadata": {},
   "outputs": [],
   "source": [
    "sig_args_obj = arg_obj\n",
    "bt = ScaleBacktest(sig_args_obj)\n",
    "result = bt.run_signal()"
   ]
  },
  {
   "cell_type": "code",
   "execution_count": null,
   "id": "ebe4a76a-c74d-4a69-a667-13caa7e53ca2",
   "metadata": {},
   "outputs": [],
   "source": [
    "signal_df = pd.DataFrame(result)"
   ]
  },
  {
   "cell_type": "code",
   "execution_count": null,
   "id": "2532cfa1-b474-46f5-b414-ce124de5cad6",
   "metadata": {},
   "outputs": [],
   "source": [
    "signal_df.head(2)"
   ]
  },
  {
   "cell_type": "code",
   "execution_count": null,
   "id": "d7024eab-eb3b-49f0-98e9-cd69ea56071b",
   "metadata": {},
   "outputs": [],
   "source": [
    "signal_mark_points = []\n",
    "color_green = 'rgba(50,250,50,0.7)'\n",
    "color_red = 'rgba(250,50,50,0.7)'\n",
    "for _, row in signal_df.iterrows():\n",
    "    color = color_green\n",
    "    if row.dir == SignalDirection.BUY:\n",
    "        color = color_green\n",
    "    elif row.dir == SignalDirection.SELL:\n",
    "        color = color_red\n",
    "    else:\n",
    "        continue # skip dir = None\n",
    "    signal_mark_points.append(opts.MarkPointItem(coord=[row.ulexts, row.ulpx], \n",
    "            #value=row.val,\n",
    "            symbol='circle',               \n",
    "            symbol_size=[8, 8],\n",
    "            itemstyle_opts=opts.ItemStyleOpts(color=color),\n",
    "            ))"
   ]
  },
  {
   "cell_type": "code",
   "execution_count": null,
   "id": "67b83f70-1bf7-42a6-9afa-182945fe94e6",
   "metadata": {},
   "outputs": [],
   "source": [
    "macd_mark_points = []\n",
    "color_green = 'rgba(70,250,70,0.8)'\n",
    "color_red = 'rgba(250,70,70,0.8)'\n",
    "last_dir = SignalDirection.NONE\n",
    "for _, row in signal_df.iterrows():\n",
    "    color = color_green\n",
    "    if last_dir == row.macd_dir:\n",
    "        continue\n",
    "    if row.macd_dir == SignalDirection.BUY:\n",
    "        color = color_green\n",
    "    elif row.macd_dir == SignalDirection.SELL:\n",
    "        color = color_red\n",
    "    else:\n",
    "        continue # skip dir = None\n",
    "    last_dir = row.macd_dir    \n",
    "    macd_mark_points.append(opts.MarkPointItem(coord=[row.ulexts, row.ulpx + 10], \n",
    "            #value=row.val,\n",
    "            symbol='square',               \n",
    "            symbol_size=[5, 5],\n",
    "            itemstyle_opts=opts.ItemStyleOpts(color=color,),\n",
    "                                                       \n",
    "            ))"
   ]
  },
  {
   "cell_type": "code",
   "execution_count": null,
   "id": "d7413624-cc33-4e0a-bf42-5446cc94e167",
   "metadata": {},
   "outputs": [],
   "source": [
    "trade_plot = plot_trade_signals(signal_df, \n",
    "                                trade_df, \n",
    "                                sum_df, \n",
    "                                show_pnl_markers=False,\n",
    "                                show_legends=True, \n",
    "                                signal_mark_points=None,\n",
    "                                mark_offset=2)"
   ]
  },
  {
   "cell_type": "code",
   "execution_count": null,
   "id": "a38c6c0d-02b0-4d6d-813d-60f5bb6c5cd9",
   "metadata": {},
   "outputs": [],
   "source": [
    "trade_plot.load_javascript()"
   ]
  },
  {
   "cell_type": "code",
   "execution_count": null,
   "id": "74b25c82-6d40-4379-bf16-14b06efdd5f2",
   "metadata": {},
   "outputs": [],
   "source": [
    "trade_plot.render_notebook()"
   ]
  },
  {
   "cell_type": "markdown",
   "id": "17ee6cdb-3c57-4f6d-9646-51a90ce1d6b2",
   "metadata": {},
   "source": [
    "### Signal Plot"
   ]
  },
  {
   "cell_type": "code",
   "execution_count": null,
   "id": "e30068c3-a2fc-45ce-a984-be0d5ce96f52",
   "metadata": {},
   "outputs": [],
   "source": [
    "signal_plot = plot_df_simple(\n",
    "    signal_df, \n",
    "    x_col = 'ulexts', \n",
    "    y_cols = ['ulpx' , 'smooth_ulpx', 'atm'], \n",
    "    mark_points = {\n",
    "        'ulpx' :  signal_mark_points + macd_mark_points,\n",
    "    },\n",
    "    title= f\"Signal Analysis - {underlying} {trading_date}\",\n",
    "    zoom=True\n",
    ")\n",
    "cp_plot = plot_df_simple(\n",
    "    signal_df, \n",
    "    x_col = 'ulexts', \n",
    "    y_cols = ['cpx' , 'ppx'], \n",
    "    title= f\"Call Put - {underlying} {trading_date}\"\n",
    ")\n",
    "macd_plot = plot_df_simple(\n",
    "    signal_df, \n",
    "    x_col = 'ulexts', \n",
    "    y_cols = ['ulpx'], \n",
    "    mark_points = {'ulpx' :  macd_mark_points},\n",
    "    title= f\"MACD - {underlying} {trading_date}\",\n",
    "    zoom=True\n",
    ")"
   ]
  },
  {
   "cell_type": "code",
   "execution_count": null,
   "id": "c5a4e535-887e-4a0e-9aeb-b67f7ea33d97",
   "metadata": {
    "jupyter": {
     "source_hidden": true
    }
   },
   "outputs": [],
   "source": [
    "signal_plot.load_javascript()\n",
    "cp_plot.load_javascript()\n",
    "macd_plot.load_javascript()"
   ]
  },
  {
   "cell_type": "code",
   "execution_count": null,
   "id": "736b859b-3571-4c63-a728-0590c95daf1e",
   "metadata": {},
   "outputs": [],
   "source": [
    "signal_plot.render_notebook()"
   ]
  },
  {
   "cell_type": "code",
   "execution_count": null,
   "id": "ba32ef6d-2b0a-4cf9-a6b9-f15d5da911d4",
   "metadata": {},
   "outputs": [],
   "source": [
    "cp_plot.render_notebook()"
   ]
  },
  {
   "cell_type": "code",
   "execution_count": null,
   "id": "ea490cd9-082e-4550-849c-c451b98c8422",
   "metadata": {},
   "outputs": [],
   "source": [
    "macd_plot.render_notebook()"
   ]
  },
  {
   "cell_type": "code",
   "execution_count": null,
   "id": "e5b94002-d3fa-43c6-b96a-59ff15b51ae3",
   "metadata": {},
   "outputs": [],
   "source": []
  }
 ],
 "metadata": {
  "kernelspec": {
   "display_name": "Python 3 (ipykernel)",
   "language": "python",
   "name": "python3"
  },
  "language_info": {
   "codemirror_mode": {
    "name": "ipython",
    "version": 3
   },
   "file_extension": ".py",
   "mimetype": "text/x-python",
   "name": "python",
   "nbconvert_exporter": "python",
   "pygments_lexer": "ipython3",
   "version": "3.11.5"
  }
 },
 "nbformat": 4,
 "nbformat_minor": 5
}
