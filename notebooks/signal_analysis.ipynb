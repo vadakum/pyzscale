{
 "cells": [
  {
   "cell_type": "code",
   "execution_count": null,
   "id": "85878ee9-97ad-4f2b-b3c2-b77e08bcad30",
   "metadata": {},
   "outputs": [],
   "source": [
    "%load_ext autoreload\n",
    "%autoreload 2"
   ]
  },
  {
   "cell_type": "code",
   "execution_count": null,
   "id": "e8568dc0-7211-40ac-a8c1-c117a2c806ab",
   "metadata": {},
   "outputs": [],
   "source": [
    "# Echarts Jupyter lab support\n",
    "from pyecharts.globals import CurrentConfig, NotebookType\n",
    "CurrentConfig.NOTEBOOK_TYPE = NotebookType.JUPYTER_LAB"
   ]
  },
  {
   "cell_type": "code",
   "execution_count": null,
   "id": "35e6e7ee-abcb-4e92-b983-705b2e49dc45",
   "metadata": {},
   "outputs": [],
   "source": [
    "# Echarts imports\n",
    "from pyecharts import options as opts\n",
    "from pyecharts.globals import  ThemeType\n",
    "from pyecharts.charts import Line"
   ]
  },
  {
   "cell_type": "code",
   "execution_count": null,
   "id": "4575951d-5c4b-4818-966c-fac5b1ad6124",
   "metadata": {},
   "outputs": [],
   "source": [
    "from IPython.display import HTML\n",
    "import matplotlib.pyplot as plt"
   ]
  },
  {
   "cell_type": "code",
   "execution_count": null,
   "id": "ebd1ef9f-dbd0-42f9-b9f3-08524d500c61",
   "metadata": {},
   "outputs": [],
   "source": [
    "from common.log_helper import LogHelper\n",
    "from backtest.scale_backtest_args import ScaleBacktestArgGen\n",
    "from backtest.scale_chain_reader import ScaleChainReader\n",
    "from notebooks.img_symbols import down_arrow\n",
    "from notebooks.echart_df_plot import plot_df_simple\n",
    "from modelservice.scale_alpha import ScaleAlpha\n",
    "from modelservice.alpha_consts import SignalDirection\n",
    "import logging\n",
    "import sys\n",
    "import pandas as pd\n",
    "import talib"
   ]
  },
  {
   "cell_type": "code",
   "execution_count": null,
   "id": "8213b0d2-6313-45c2-8bbc-880f7cb0ec37",
   "metadata": {},
   "outputs": [],
   "source": [
    "LogHelper.configure_logging(verbose=False)\n",
    "pd.set_option(\"display.precision\", 2)\n",
    "pd.set_option('display.float_format', '{:.2f}'.format)"
   ]
  },
  {
   "cell_type": "code",
   "execution_count": null,
   "id": "962e5818-a0a3-4f7e-a1b8-14458fea3c62",
   "metadata": {},
   "outputs": [],
   "source": [
    "ReaderArgs = {\n",
    "    'common': {\n",
    "        'start_time': '09:15:00',\n",
    "        'end_time' : '15:25:00',\n",
    "    },\n",
    "}\n",
    "AlphaArgs = {\n",
    "    'sigmult' : 0.5,\n",
    "    'smoother' : {\n",
    "        'TS' : {'enabled': False , 'type' : 'STABLEWIN' , 'timeperiod' : 3 * 60 },\n",
    "        'UL' : {'enabled': True, 'type' : 'EMA' , 'timeperiod' : 3 * 60 },\n",
    "        'CP' : {'enabled': False, 'type' : 'AGG' , 'timeperiod' : 3 * 60 },            \n",
    "    }\n",
    "}"
   ]
  },
  {
   "cell_type": "code",
   "execution_count": null,
   "id": "6211499d-0e30-44d3-9911-da4a7a052457",
   "metadata": {},
   "outputs": [],
   "source": [
    "dump_base_dir = \"/home/qoptrprod/data/dumps/\"\n",
    "trading_date = \"20240319\"\n",
    "underlying = \"MIDCPNIFTY_I\""
   ]
  },
  {
   "cell_type": "code",
   "execution_count": null,
   "id": "f4d8df14-3336-4e3c-828a-3cd844531307",
   "metadata": {},
   "outputs": [],
   "source": [
    "arg_obj = ScaleBacktestArgGen.resolve_and_gen_args(dump_base_dir, underlying, trading_date, ReaderArgs)\n",
    "reader = ScaleChainReader(arg_obj)\n",
    "alpha = ScaleAlpha(AlphaArgs)"
   ]
  },
  {
   "cell_type": "code",
   "execution_count": null,
   "id": "f8052d44-6532-442f-a3b4-55cb10a8c3d9",
   "metadata": {
    "jupyter": {
     "source_hidden": true
    }
   },
   "outputs": [],
   "source": [
    "show_distict_signal = False\n",
    "\n",
    "color_none = 'rgba(100, 100, 100, 0.5)'\n",
    "color_red = 'rgba(230,50,120,0.8)' \n",
    "color_green = 'rgba(50,220,120,0.8)'\n",
    "\n",
    "valid_signals = []\n",
    "signal_mark_points = []\n",
    "last_signal_dir = None\n",
    "for chain in reader.read_chain():\n",
    "    signal = alpha.process_update(chain)\n",
    "    #-- Filter --\n",
    "    if not signal.is_valid:\n",
    "        continue\n",
    "\n",
    "    valid_signals.append(signal)    \n",
    "\n",
    "    #--- Add Signal Markers ---\n",
    "    if signal.dir == SignalDirection.BUY or signal.dir == SignalDirection.SELL:\n",
    "        if show_distict_signal:\n",
    "            if last_signal_dir == signal.dir:\n",
    "                continue\n",
    "            last_signal_dir = signal.dir   \n",
    "        color = color_green\n",
    "        if signal.dir == SignalDirection.BUY:\n",
    "            color = color_green\n",
    "        elif signal.dir == SignalDirection.SELL:\n",
    "            color = color_red\n",
    "        signal_mark_points.append(opts.MarkPointItem(coord=[signal.ulexts, signal.ulpx], \n",
    "                symbol='circle',               \n",
    "                symbol_size=[8, 8],\n",
    "                itemstyle_opts=opts.ItemStyleOpts(color=color),\n",
    "                ))\n",
    "\n",
    "print(valid_signals[0])\n",
    "df = pd.DataFrame(valid_signals)\n",
    "_ = df.set_index('ulexts')"
   ]
  },
  {
   "cell_type": "code",
   "execution_count": null,
   "id": "4327a24a-8fb3-4786-a99c-3b9bb0bb6b7b",
   "metadata": {},
   "outputs": [],
   "source": [
    "plot1 = plot_df_simple(\n",
    "    df, \n",
    "    x_col = 'ulexts', \n",
    "    y_cols = ['ulpx' , 'smooth_ulpx', 'atm'], \n",
    "    mark_points = {'ulpx' :  signal_mark_points},\n",
    "    title= f\"Signal Analysis - {underlying} {trading_date}\"\n",
    ")"
   ]
  },
  {
   "cell_type": "code",
   "execution_count": null,
   "id": "8759c965-ad72-44bf-8502-4bd250664f26",
   "metadata": {},
   "outputs": [],
   "source": [
    "plot1.render_notebook()"
   ]
  },
  {
   "cell_type": "code",
   "execution_count": null,
   "id": "cc843656-366f-4f4c-ace0-0bec518aea1b",
   "metadata": {},
   "outputs": [],
   "source": [
    "plot2 = plot_df_simple(\n",
    "    df, \n",
    "    x_col = 'ulexts', \n",
    "    y_cols = ['cpx' , 'ppx'], \n",
    "    mark_points = {},\n",
    "    title= f\"Call Put Prices\"\n",
    ")"
   ]
  },
  {
   "cell_type": "code",
   "execution_count": null,
   "id": "74836ad6-16f7-469d-90f7-96529f55333a",
   "metadata": {},
   "outputs": [],
   "source": [
    "plot2.render_notebook()"
   ]
  },
  {
   "cell_type": "code",
   "execution_count": null,
   "id": "8cfadf61-f802-40b3-a25d-cf23258424b1",
   "metadata": {
    "jupyter": {
     "source_hidden": true
    }
   },
   "outputs": [],
   "source": [
    "plot3 = plot_df_simple(\n",
    "    df, \n",
    "    x_col = 'ulexts', \n",
    "    y_cols = ['val'], \n",
    "    mark_points = {},\n",
    "    title= f\"Signal Values\"\n",
    ")"
   ]
  },
  {
   "cell_type": "code",
   "execution_count": null,
   "id": "7ca77963-9aa8-4a94-b15b-f52887be9a55",
   "metadata": {
    "jupyter": {
     "source_hidden": true
    }
   },
   "outputs": [],
   "source": [
    "plot3.render_notebook()"
   ]
  },
  {
   "cell_type": "code",
   "execution_count": null,
   "id": "eddd3ad5-6de4-47e1-bd3a-dc340d2445e5",
   "metadata": {},
   "outputs": [],
   "source": [
    "import seaborn as sns\n",
    "import statsmodels\n",
    "import numpy as np"
   ]
  },
  {
   "cell_type": "code",
   "execution_count": null,
   "id": "a69ec423-6398-445c-a6b8-101518538704",
   "metadata": {},
   "outputs": [],
   "source": [
    "def corr_plot(df, shift, idx, axs):\n",
    "    df['emapx'] = talib.EMA(df['ulpx'], timeperiod=10*60)\n",
    "    df.dropna()\n",
    "    #df['sulpx'] = df['smooth_ulpx'].shift(-shift)\n",
    "    df['sulpx'] = df['emapx'].shift(-shift)\n",
    "    #df['diff'] = df['sulpx'] - df['smooth_ulpx']\n",
    "    df['diff'] = df['sulpx'] - df['emapx']\n",
    "    #df['diff'] = df['diff'] / df['diff'].abs()\n",
    "    ddf = df\n",
    "    ddf = df.query('val > 12.5 or val < -12.5')\n",
    "    #display(ddf.head(11))\n",
    "    sns.regplot(data=ddf, x='val', y='diff', ax=axs[idx], scatter=True)\n",
    "    axs[idx].set_ylabel(f\"shifted:{shift} sec\", labelpad=25, fontsize=12)\n",
    "    corr = ddf['diff'].corr(ddf['val'])\n",
    "    print(f\"shift:{shift} val=>diff corr = {corr}\")"
   ]
  },
  {
   "cell_type": "code",
   "execution_count": null,
   "id": "8f77eb5a-4fea-41be-9a22-53800f340357",
   "metadata": {},
   "outputs": [],
   "source": [
    "shifts = [1, 1*60, 2*60, 3*60, 5*60, 30*60]\n",
    "fig, axs = plt.subplots(nrows=len(shifts), figsize=(7, 12))\n",
    "_ = [corr_plot(df, shift=shift, idx=idx, axs=axs) for idx, shift in enumerate(shifts)]"
   ]
  },
  {
   "cell_type": "code",
   "execution_count": null,
   "id": "52d9a126-675e-4af8-8330-9c5264a6117e",
   "metadata": {},
   "outputs": [],
   "source": []
  }
 ],
 "metadata": {
  "kernelspec": {
   "display_name": "Python 3 (ipykernel)",
   "language": "python",
   "name": "python3"
  },
  "language_info": {
   "codemirror_mode": {
    "name": "ipython",
    "version": 3
   },
   "file_extension": ".py",
   "mimetype": "text/x-python",
   "name": "python",
   "nbconvert_exporter": "python",
   "pygments_lexer": "ipython3",
   "version": "3.11.5"
  }
 },
 "nbformat": 4,
 "nbformat_minor": 5
}
